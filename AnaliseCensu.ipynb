{
 "cells": [
  {
   "cell_type": "markdown",
   "metadata": {},
   "source": [
    "## 0 - Bibliotecas"
   ]
  },
  {
   "cell_type": "code",
   "execution_count": 48,
   "metadata": {},
   "outputs": [],
   "source": [
    "import numpy as np # linear algebra\n",
    "import pandas as pd # data processing, CSV file I/O (e.g. pd.read_csv)\n",
    "import matplotlib.pyplot as plt\n",
    "import plotly.express as px\n",
    "import seaborn as sns\n",
    "from scipy.stats import skew\n",
    "from scipy.stats import kurtosis\n",
    "import scipy.stats as stats\n",
    "from sklearn import preprocessing\n",
    "from scipy.stats import chi2_contingency\n",
    "from statsmodels.graphics.mosaicplot import mosaic\n",
    "from itertools import combinations\n",
    "import warnings\n",
    "warnings.filterwarnings(\"ignore\")\n",
    "\n",
    "from sklearn.metrics import accuracy_score"
   ]
  },
  {
   "cell_type": "markdown",
   "metadata": {},
   "source": [
    "#### Funções utilizadas"
   ]
  },
  {
   "cell_type": "code",
   "execution_count": 49,
   "metadata": {},
   "outputs": [],
   "source": [
    "def my_summary(data, column):\n",
    "    fig, axs = plt.subplots(1,2, figsize=(19,6))\n",
    "    #creating histogram plot\n",
    "    axs[0].hist(data[column]) \n",
    "\n",
    "    #vertical line for mean of the distribution\n",
    "    axs[0].axvline(\n",
    "        data[column].mean(), \n",
    "        color='red', \n",
    "        label=f\"Mean: {round(data[column].mean(),2)}\") \n",
    "\n",
    "    #vertical line for median of the distribution\n",
    "    axs[0].axvline(\n",
    "        data[column].median(), \n",
    "        color='green', \n",
    "        label=f\"Median: {round(data[column].median(),2)}\") \n",
    "\n",
    "    #vertical line for 25th percentile of the distribution\n",
    "    axs[0].axvline(\n",
    "        x=data[column].describe()[4],\n",
    "        color='r', linestyle='--', \n",
    "        label=f\"25th percentile: {data[column].describe()[4]}\") \n",
    "\n",
    "    #vertical line for 75th percentile of the distribution\n",
    "    axs[0].axvline(\n",
    "        x=data[column].describe()[6],\n",
    "        color='r', linestyle='--', \n",
    "        label=f\"75th percentile: {data[column].describe()[6]}\")\n",
    "        \n",
    "    axs[0].legend()\n",
    "    \n",
    "    #creating boxplot\n",
    "    sns.boxplot(data=data, x=column, ax=axs[1]) \n",
    "    #vertical line for the mean of the distribution\n",
    "    axs[1].axvline(data[column].mean(), color='red') \n",
    "\n",
    "    fig.suptitle(f\"Histogram and Boxplot of {column}\")\n",
    "    plt.show()\n",
    "    \n",
    "    #describe do campo\n",
    "    print(f\"{data[column].describe().round(3)}\\n\")\n",
    "\n",
    "    print(f\"Range: {data[column].max() - data[column].min()}\")\n",
    "    print(f\"Interquartile Range: {data[column].describe()[6] - data[column].describe()[4]}\\n\")\n",
    "    print(f\"Skewness: {skew(data[data[column].isna()==False][column], bias=True)}\")\n",
    "    print(f\"Kurtosis: {kurtosis(data[data[column].isna()==False][column], bias=True)}\")"
   ]
  },
  {
   "cell_type": "code",
   "execution_count": 96,
   "metadata": {},
   "outputs": [],
   "source": [
    "df_scores =  pd.DataFrame(columns=['desc', 'score'])\n",
    "\n",
    "def control_scores(desc, score, just_show = False):\n",
    "    if just_show == False:\n",
    "        df_scores.drop(df_scores[(df_scores['desc'] == desc)].index, inplace=True)\n",
    "        globals()['df_scores'] =  pd.DataFrame(globals()['df_scores']).append({'desc':desc, 'score':score }, ignore_index=True)\n",
    "\n",
    "        fig = px.bar(\n",
    "            df_scores, \n",
    "            x=\"score\", \n",
    "            y=\"desc\", \n",
    "            color='desc', \n",
    "            orientation='h',\n",
    "            text_auto=True,\n",
    "\n",
    "            hover_data=[\"desc\", \"score\"],\n",
    "            title='Resultado dos modelos (quanto maior melhor)')\n",
    "        fig.show()"
   ]
  },
  {
   "cell_type": "markdown",
   "metadata": {},
   "source": [
    "## 1 - Importação da base do censu"
   ]
  },
  {
   "cell_type": "markdown",
   "metadata": {},
   "source": [
    " - `age`             continuous.\n",
    " - `workclass`       Private, Self-emp-not-inc, Self-emp-inc, Federal-gov, Local-gov, State-gov, Without-pay, Never-worked.\n",
    " - `fnlwgt`          The weights on the CPS files are controlled to independent estimates of the civilian noninstitutional population of the US. These are prepared monthly for us by Population Division here at the Census Bureau. We use 3 sets of controls. These are: 1. A single cell estimate of the population 16+ for each state. 2. Controls for Hispanic Origin by age and sex. 3. Controls by Race, age and sex..\n",
    " - `education`       Bachelors, Some-college, 11th, HS-grad, Prof-school, Assoc-acdm, Assoc-voc, 9th, 7th-8th, 12th, Masters, 1st-4th, 10th, Doctorate, 5th-6th, Preschool.\n",
    " - `education-num`   continuous.\n",
    " - `marital-status`  Married-civ-spouse, Divorced, Never-married, Separated, Widowed, Married-spouse-absent, Married-AF-spouse.\n",
    " - `occupation`      Tech-support, Craft-repair, Other-service, Sales, Exec-managerial, Prof-specialty, Handlers-cleaners, Machine-op-inspct, Adm-clerical, Farming-fishing, Transport-moving, Priv-house-serv, Protective-serv, Armed-Forces.\n",
    " - `relationship`    Wife, Own-child, Husband, Not-in-family, Other-relative, Unmarried.\n",
    " - `race`            White, Asian-Pac-Islander, Amer-Indian-Eskimo, Other, Black.\n",
    " - `sex`             Female, Male.\n",
    " - `capital-gain`    continuous.\n",
    " - `capital-loss`    continuous.\n",
    " - `hours-per-week`  continuous.\n",
    " - `native-country`  United-States, Cambodia, England, Puerto-Rico, Canada, Germany, Outlying-US(Guam-USVI-etc), India, Japan, Greece, South, China, Cuba, Iran, Honduras, Philippines, Italy, Poland, Jamaica, Vietnam, Mexico, Portugal, Ireland, France, Dominican-Republic, Laos, Ecuador, Taiwan, Haiti, Columbia, Hungary, Guatemala, Nicaragua, Scotland, Thailand, Yugoslavia, El-Salvador, Trinadad&Tobago, Peru, Hong, Holand-Netherlands."
   ]
  },
  {
   "cell_type": "code",
   "execution_count": 51,
   "metadata": {},
   "outputs": [],
   "source": [
    "col_names = ['age', 'workclass', 'fnlwgt', 'education', 'education-num', 'marital-status', 'occupation', 'relationship', 'race', 'sex', 'capital-gain', 'capital-loss', 'hours-per-week', 'native-country', 'income']\n",
    "\n",
    "censu = pd.read_csv(\n",
    "    'adult.data', \n",
    "    sep = ',', \n",
    "    header = None,\n",
    "    names = col_names,\n",
    "    index_col = False,\n",
    "    #para remover o espaço em branco no início de cada string que está no arquivo CSV\n",
    "    #uma outra forma de resolver seria usando o comando abaixo para cada variável do tipo Serie\n",
    "    #censu.workclass = censu.workclass.str.strip()\n",
    "    skipinitialspace = True\n",
    "    )\n",
    "del(col_names)"
   ]
  },
  {
   "cell_type": "markdown",
   "metadata": {},
   "source": [
    "## 2 - Análise Descritiva"
   ]
  },
  {
   "cell_type": "markdown",
   "metadata": {},
   "source": [
    "### Verificação de dados nulos"
   ]
  },
  {
   "cell_type": "code",
   "execution_count": 52,
   "metadata": {},
   "outputs": [
    {
     "data": {
      "text/plain": [
       "age               0\n",
       "workclass         0\n",
       "fnlwgt            0\n",
       "education         0\n",
       "education-num     0\n",
       "marital-status    0\n",
       "occupation        0\n",
       "relationship      0\n",
       "race              0\n",
       "sex               0\n",
       "capital-gain      0\n",
       "capital-loss      0\n",
       "hours-per-week    0\n",
       "native-country    0\n",
       "income            0\n",
       "dtype: int64"
      ]
     },
     "execution_count": 52,
     "metadata": {},
     "output_type": "execute_result"
    }
   ],
   "source": [
    "#ao verificarmos a quantidade de linhas em branco, observamos que a linha loan_int_rate possui quantidade expressova de dados em branco.\n",
    "censu.isna().sum()"
   ]
  },
  {
   "cell_type": "markdown",
   "metadata": {},
   "source": [
    "### Verificação da renda (income)"
   ]
  },
  {
   "cell_type": "code",
   "execution_count": 53,
   "metadata": {},
   "outputs": [
    {
     "data": {
      "image/png": "[encoded data removed]",
      "text/plain": [
       "<Figure size 576x396 with 1 Axes>"
      ]
     },
     "metadata": {},
     "output_type": "display_data"
    }
   ],
   "source": [
    "sns.countplot(x = censu['income']);"
   ]
  },
  {
   "cell_type": "markdown",
   "metadata": {},
   "source": [
    "### Visão de age de acordo com cada workclass\n",
    "\n",
    "O tamanho do bloco mostra a representatividade"
   ]
  },
  {
   "cell_type": "code",
   "execution_count": 54,
   "metadata": {},
   "outputs": [
    {
     "data": {
      "application/vnd.plotly.v1+json": {
       "config": {
        "plotlyServerURL": "https://plot.ly"
       },
       "data": [
        {
         "branchvalues": "total",
         "domain": {
          "x": [
           0,
           1
          ],
          "y": [
           0,
           1
          ]
         },
         "hovertemplate": "labels=%{label}<br>count=%{value}<br>parent=%{parent}<br>id=%{id}<extra></extra>",
         "ids": [
          "?/17",
          "Federal-gov/17",
          "Local-gov/17",
          "Never-worked/17",
          "Private/17",
          "Self-emp-inc/17",
          "Self-emp-not-inc/17",
          "State-gov/17",
          "?/18",
          "Federal-gov/18",
          "Local-gov/18",
          "Never-worked/18",
          "Private/18",
          "Self-emp-inc/18",
          "Self-emp-not-inc/18",
          "State-gov/18",
          "?/19",
          "Federal-gov/19",
          "Local-gov/19",
          "Private/19",
          "Self-emp-inc/19",
          "Self-emp-not-inc/19",
          "State-gov/19",
          "Without-pay/19",
          "?/20",
          "Federal-gov/20",
          "Local-gov/20",
          "Never-worked/20",
          "Private/20",
          "Self-emp-inc/20",
          "Self-emp-not-inc/20",
          "State-gov/20",
          "?/21",
          "Federal-gov/21",
          "Local-gov/21",
          "Private/21",
          "Self-emp-inc/21",
          "Self-emp-not-inc/21",
          "State-gov/21",
          "Without-pay/21",
          "?/22",
          "Federal-gov/22",
          "Local-gov/22",
          "Private/22",
          "Self-emp-inc/22",
          "Self-emp-not-inc/22",
          "State-gov/22",
          "Without-pay/22",
          "?/23",
          "Federal-gov/23",
          "Local-gov/23",
          "Never-worked/23",
          "Private/23",
          "Self-emp-inc/23",
          "Self-emp-not-inc/23",
          "State-gov/23",
          "?/24",
          "Federal-gov/24",
          "Local-gov/24",
          "Private/24",
          "Self-emp-inc/24",
          "Self-emp-not-inc/24",
          "State-gov/24",
          "?/25",
          "Federal-gov/25",
          "Local-gov/25",
          "Private/25",
          "Self-emp-inc/25",
          "Self-emp-not-inc/25",
          "State-gov/25",
          "?/26",
          "Federal-gov/26",
          "Local-gov/26",
          "Private/26",
          "Self-emp-inc/26",
          "Self-emp-not-inc/26",
          "State-gov/26",
          "?/27",
          "Federal-gov/27",
          "Local-gov/27",
          "Private/27",
          "Self-emp-inc/27",
          "Self-emp-not-inc/27",
          "State-gov/27",
          "?/28",
          "Federal-gov/28",
          "Local-gov/28",
          "Private/28",
          "Self-emp-inc/28",
          "Self-emp-not-inc/28",
          "State-gov/28",
          "?/29",
          "Federal-gov/29",
          "Local-gov/29",
          "Private/29",
          "Self-emp-inc/29",
          "Self-emp-not-inc/29",
          "State-gov/29",
          "Without-pay/29",
          "?/30",
          "Federal-gov/30",
          "Local-gov/30",
          "Never-worked/30",
          "Private/30",
          "Self-emp-inc/30",
          "Self-emp-not-inc/30",
          "State-gov/30",
          "?/31",
          "Federal-gov/31",
          "Local-gov/31",
          "Private/31",
          "Self-emp-inc/31",
          "Self-emp-not-inc/31",
          "State-gov/31",
          "?/32",
          "Federal-gov/32",
          "Local-gov/32",
          "Private/32",
          "Self-emp-inc/32",
          "Self-emp-not-inc/32",
          "State-gov/32",
          "?/33",
          "Federal-gov/33",
          "Local-gov/33",
          "Private/33",
          "Self-emp-inc/33",
          "Self-emp-not-inc/33",
          "State-gov/33",
          "?/34",
          "Federal-gov/34",
          "Local-gov/34",
          "Private/34",
          "Self-emp-inc/34",
          "Self-emp-not-inc/34",
          "State-gov/34",
          "?/35",
          "Federal-gov/35",
          "Local-gov/35",
          "Private/35",
          "Self-emp-inc/35",
          "Self-emp-not-inc/35",
          "State-gov/35",
          "?/36",
          "Federal-gov/36",
          "Local-gov/36",
          "Private/36",
          "Self-emp-inc/36",
          "Self-emp-not-inc/36",
          "State-gov/36",
          "?/37",
          "Federal-gov/37",
          "Local-gov/37",
          "Private/37",
          "Self-emp-inc/37",
          "Self-emp-not-inc/37",
          "State-gov/37",
          "?/38",
          "Federal-gov/38",
          "Local-gov/38",
          "Private/38",
          "Self-emp-inc/38",
          "Self-emp-not-inc/38",
          "State-gov/38",
          "?/39",
          "Federal-gov/39",
          "Local-gov/39",
          "Private/39",
          "Self-emp-inc/39",
          "Self-emp-not-inc/39",
          "State-gov/39",
          "?/40",
          "Federal-gov/40",
          "Local-gov/40",
          "Private/40",
          "Self-emp-inc/40",
          "Self-emp-not-inc/40",
          "State-gov/40",
          "?/41",
          "Federal-gov/41",
          "Local-gov/41",
          "Private/41",
          "Self-emp-inc/41",
          "Self-emp-not-inc/41",
          "State-gov/41",
          "?/42",
          "Federal-gov/42",
          "Local-gov/42",
          "Private/42",
          "Self-emp-inc/42",
          "Self-emp-not-inc/42",
          "State-gov/42",
          "?/43",
          "Federal-gov/43",
          "Local-gov/43",
          "Private/43",
          "Self-emp-inc/43",
          "Self-emp-not-inc/43",
          "State-gov/43",
          "?/44",
          "Federal-gov/44",
          "Local-gov/44",
          "Private/44",
          "Self-emp-inc/44",
          "Self-emp-not-inc/44",
          "State-gov/44",
          "?/45",
          "Federal-gov/45",
          "Local-gov/45",
          "Private/45",
          "Self-emp-inc/45",
          "Self-emp-not-inc/45",
          "State-gov/45",
          "?/46",
          "Federal-gov/46",
          "Local-gov/46",
          "Private/46",
          "Self-emp-inc/46",
          "Self-emp-not-inc/46",
          "State-gov/46",
          "Without-pay/46",
          "?/47",
          "Federal-gov/47",
          "Local-gov/47",
          "Private/47",
          "Self-emp-inc/47",
          "Self-emp-not-inc/47",
          "State-gov/47",
          "?/48",
          "Federal-gov/48",
          "Local-gov/48",
          "Private/48",
          "Self-emp-inc/48",
          "Self-emp-not-inc/48",
          "State-gov/48",
          "?/49",
          "Federal-gov/49",
          "Local-gov/49",
          "Private/49",
          "Self-emp-inc/49",
          "Self-emp-not-inc/49",
          "State-gov/49",
          "?/50",
          "Federal-gov/50",
          "Local-gov/50",
          "Private/50",
          "Self-emp-inc/50",
          "Self-emp-not-inc/50",
          "State-gov/50",
          "?/51",
          "Federal-gov/51",
          "Local-gov/51",
          "Private/51",
          "Self-emp-inc/51",
          "Self-emp-not-inc/51",
          "State-gov/51",
          "?/52",
          "Federal-gov/52",
          "Local-gov/52",
          "Private/52",
          "Self-emp-inc/52",
          "Self-emp-not-inc/52",
          "State-gov/52",
          "Without-pay/52",
          "?/53",
          "Federal-gov/53",
          "Local-gov/53",
          "Private/53",
          "Self-emp-inc/53",
          "Self-emp-not-inc/53",
          "State-gov/53",
          "?/54",
          "Federal-gov/54",
          "Local-gov/54",
          "Private/54",
          "Self-emp-inc/54",
          "Self-emp-not-inc/54",
          "State-gov/54",
          "?/55",
          "Federal-gov/55",
          "Local-gov/55",
          "Private/55",
          "Self-emp-inc/55",
          "Self-emp-not-inc/55",
          "State-gov/55",
          "?/56",
          "Federal-gov/56",
          "Local-gov/56",
          "Private/56",
          "Self-emp-inc/56",
          "Self-emp-not-inc/56",
          "State-gov/56",
          "?/57",
          "Federal-gov/57",
          "Local-gov/57",
          "Private/57",
          "Self-emp-inc/57",
          "Self-emp-not-inc/57",
          "State-gov/57",
          "?/58",
          "Federal-gov/58",
          "Local-gov/58",
          "Private/58",
          "Self-emp-inc/58",
          "Self-emp-not-inc/58",
          "State-gov/58",
          "?/59",
          "Federal-gov/59",
          "Local-gov/59",
          "Private/59",
          "Self-emp-inc/59",
          "Self-emp-not-inc/59",
          "State-gov/59",
          "?/60",
          "Federal-gov/60",
          "Local-gov/60",
          "Private/60",
          "Self-emp-inc/60",
          "Self-emp-not-inc/60",
          "State-gov/60",
          "?/61",
          "Federal-gov/61",
          "Local-gov/61",
          "Private/61",
          "Self-emp-inc/61",
          "Self-emp-not-inc/61",
          "State-gov/61",
          "?/62",
          "Federal-gov/62",
          "Local-gov/62",
          "Private/62",
          "Self-emp-inc/62",
          "Self-emp-not-inc/62",
          "State-gov/62",
          "Without-pay/62",
          "?/63",
          "Federal-gov/63",
          "Local-gov/63",
          "Private/63",
          "Self-emp-inc/63",
          "Self-emp-not-inc/63",
          "State-gov/63",
          "?/64",
          "Federal-gov/64",
          "Local-gov/64",
          "Private/64",
          "Self-emp-inc/64",
          "Self-emp-not-inc/64",
          "State-gov/64",
          "?/65",
          "Federal-gov/65",
          "Local-gov/65",
          "Private/65",
          "Self-emp-inc/65",
          "Self-emp-not-inc/65",
          "State-gov/65",
          "Without-pay/65",
          "?/66",
          "Federal-gov/66",
          "Local-gov/66",
          "Private/66",
          "Self-emp-inc/66",
          "Self-emp-not-inc/66",
          "State-gov/66",
          "?/67",
          "Federal-gov/67",
          "Local-gov/67",
          "Private/67",
          "Self-emp-inc/67",
          "Self-emp-not-inc/67",
          "State-gov/67",
          "Without-pay/67",
          "?/68",
          "Federal-gov/68",
          "Local-gov/68",
          "Private/68",
          "Self-emp-inc/68",
          "Self-emp-not-inc/68",
          "State-gov/68",
          "Without-pay/68",
          "?/69",
          "Federal-gov/69",
          "Local-gov/69",
          "Private/69",
          "Self-emp-inc/69",
          "Self-emp-not-inc/69",
          "State-gov/69",
          "?/70",
          "Federal-gov/70",
          "Local-gov/70",
          "Private/70",
          "Self-emp-inc/70",
          "Self-emp-not-inc/70",
          "State-gov/70",
          "?/71",
          "Federal-gov/71",
          "Local-gov/71",
          "Private/71",
          "Self-emp-inc/71",
          "Self-emp-not-inc/71",
          "State-gov/71",
          "?/72",
          "Federal-gov/72",
          "Local-gov/72",
          "Private/72",
          "Self-emp-inc/72",
          "Self-emp-not-inc/72",
          "Without-pay/72",
          "?/73",
          "Federal-gov/73",
          "Local-gov/73",
          "Private/73",
          "Self-emp-inc/73",
          "Self-emp-not-inc/73",
          "State-gov/73",
          "?/74",
          "Federal-gov/74",
          "Private/74",
          "Self-emp-inc/74",
          "Self-emp-not-inc/74",
          "State-gov/74",
          "?/75",
          "Local-gov/75",
          "Private/75",
          "Self-emp-inc/75",
          "Self-emp-not-inc/75",
          "State-gov/75",
          "?/76",
          "Federal-gov/76",
          "Local-gov/76",
          "Private/76",
          "Self-emp-inc/76",
          "Self-emp-not-inc/76",
          "?/77",
          "Local-gov/77",
          "Private/77",
          "Self-emp-inc/77",
          "Self-emp-not-inc/77",
          "?/78",
          "Local-gov/78",
          "Private/78",
          "Self-emp-inc/78",
          "Self-emp-not-inc/78",
          "?/79",
          "Federal-gov/79",
          "Local-gov/79",
          "Private/79",
          "Self-emp-inc/79",
          "Self-emp-not-inc/79",
          "?/80",
          "Local-gov/80",
          "Private/80",
          "Self-emp-not-inc/80",
          "?/81",
          "Private/81",
          "Self-emp-inc/81",
          "Self-emp-not-inc/81",
          "State-gov/81",
          "?/82",
          "Private/82",
          "Self-emp-inc/82",
          "Self-emp-not-inc/82",
          "?/83",
          "Private/83",
          "Self-emp-inc/83",
          "Self-emp-not-inc/83",
          "?/84",
          "Local-gov/84",
          "Private/84",
          "Self-emp-inc/84",
          "Self-emp-not-inc/84",
          "Private/85",
          "Self-emp-not-inc/85",
          "Private/86",
          "?/87",
          "Private/88",
          "Self-emp-not-inc/88",
          "?/90",
          "Federal-gov/90",
          "Local-gov/90",
          "Private/90",
          "Self-emp-not-inc/90",
          "?",
          "Federal-gov",
          "Local-gov",
          "Never-worked",
          "Private",
          "Self-emp-inc",
          "Self-emp-not-inc",
          "State-gov",
          "Without-pay"
         ],
         "labels": [
          "17",
          "17",
          "17",
          "17",
          "17",
          "17",
          "17",
          "17",
          "18",
          "18",
          "18",
          "18",
          "18",
          "18",
          "18",
          "18",
          "19",
          "19",
          "19",
          "19",
          "19",
          "19",
          "19",
          "19",
          "20",
          "20",
          "20",
          "20",
          "20",
          "20",
          "20",
          "20",
          "21",
          "21",
          "21",
          "21",
          "21",
          "21",
          "21",
          "21",
          "22",
          "22",
          "22",
          "22",
          "22",
          "22",
          "22",
          "22",
          "23",
          "23",
          "23",
          "23",
          "23",
          "23",
          "23",
          "23",
          "24",
          "24",
          "24",
          "24",
          "24",
          "24",
          "24",
          "25",
          "25",
          "25",
          "25",
          "25",
          "25",
          "25",
          "26",
          "26",
          "26",
          "26",
          "26",
          "26",
          "26",
          "27",
          "27",
          "27",
          "27",
          "27",
          "27",
          "27",
          "28",
          "28",
          "28",
          "28",
          "28",
          "28",
          "28",
          "29",
          "29",
          "29",
          "29",
          "29",
          "29",
          "29",
          "29",
          "30",
          "30",
          "30",
          "30",
          "30",
          "30",
          "30",
          "30",
          "31",
          "31",
          "31",
          "31",
          "31",
          "31",
          "31",
          "32",
          "32",
          "32",
          "32",
          "32",
          "32",
          "32",
          "33",
          "33",
          "33",
          "33",
          "33",
          "33",
          "33",
          "34",
          "34",
          "34",
          "34",
          "34",
          "34",
          "34",
          "35",
          "35",
          "35",
          "35",
          "35",
          "35",
          "35",
          "36",
          "36",
          "36",
          "36",
          "36",
          "36",
          "36",
          "37",
          "37",
          "37",
          "37",
          "37",
          "37",
          "37",
          "38",
          "38",
          "38",
          "38",
          "38",
          "38",
          "38",
          "39",
          "39",
          "39",
          "39",
          "39",
          "39",
          "39",
          "40",
          "40",
          "40",
          "40",
          "40",
          "40",
          "40",
          "41",
          "41",
          "41",
          "41",
          "41",
          "41",
          "41",
          "42",
          "42",
          "42",
          "42",
          "42",
          "42",
          "42",
          "43",
          "43",
          "43",
          "43",
          "43",
          "43",
          "43",
          "44",
          "44",
          "44",
          "44",
          "44",
          "44",
          "44",
          "45",
          "45",
          "45",
          "45",
          "45",
          "45",
          "45",
          "46",
          "46",
          "46",
          "46",
          "46",
          "46",
          "46",
          "46",
          "47",
          "47",
          "47",
          "47",
          "47",
          "47",
          "47",
          "48",
          "48",
          "48",
          "48",
          "48",
          "48",
          "48",
          "49",
          "49",
          "49",
          "49",
          "49",
          "49",
          "49",
          "50",
          "50",
          "50",
          "50",
          "50",
          "50",
          "50",
          "51",
          "51",
          "51",
          "51",
          "51",
          "51",
          "51",
          "52",
          "52",
          "52",
          "52",
          "52",
          "52",
          "52",
          "52",
          "53",
          "53",
          "53",
          "53",
          "53",
          "53",
          "53",
          "54",
          "54",
          "54",
          "54",
          "54",
          "54",
          "54",
          "55",
          "55",
          "55",
          "55",
          "55",
          "55",
          "55",
          "56",
          "56",
          "56",
          "56",
          "56",
          "56",
          "56",
          "57",
          "57",
          "57",
          "57",
          "57",
          "57",
          "57",
          "58",
          "58",
          "58",
          "58",
          "58",
          "58",
          "58",
          "59",
          "59",
          "59",
          "59",
          "59",
          "59",
          "59",
          "60",
          "60",
          "60",
          "60",
          "60",
          "60",
          "60",
          "61",
          "61",
          "61",
          "61",
          "61",
          "61",
          "61",
          "62",
          "62",
          "62",
          "62",
          "62",
          "62",
          "62",
          "62",
          "63",
          "63",
          "63",
          "63",
          "63",
          "63",
          "63",
          "64",
          "64",
          "64",
          "64",
          "64",
          "64",
          "64",
          "65",
          "65",
          "65",
          "65",
          "65",
          "65",
          "65",
          "65",
          "66",
          "66",
          "66",
          "66",
          "66",
          "66",
          "66",
          "67",
          "67",
          "67",
          "67",
          "67",
          "67",
          "67",
          "67",
          "68",
          "68",
          "68",
          "68",
          "68",
          "68",
          "68",
          "68",
          "69",
          "69",
          "69",
          "69",
          "69",
          "69",
          "69",
          "70",
          "70",
          "70",
          "70",
          "70",
          "70",
          "70",
          "71",
          "71",
          "71",
          "71",
          "71",
          "71",
          "71",
          "72",
          "72",
          "72",
          "72",
          "72",
          "72",
          "72",
          "73",
          "73",
          "73",
          "73",
          "73",
          "73",
          "73",
          "74",
          "74",
          "74",
          "74",
          "74",
          "74",
          "75",
          "75",
          "75",
          "75",
          "75",
          "75",
          "76",
          "76",
          "76",
          "76",
          "76",
          "76",
          "77",
          "77",
          "77",
          "77",
          "77",
          "78",
          "78",
          "78",
          "78",
          "78",
          "79",
          "79",
          "79",
          "79",
          "79",
          "79",
          "80",
          "80",
          "80",
          "80",
          "81",
          "81",
          "81",
          "81",
          "81",
          "82",
          "82",
          "82",
          "82",
          "83",
          "83",
          "83",
          "83",
          "84",
          "84",
          "84",
          "84",
          "84",
          "85",
          "85",
          "86",
          "87",
          "88",
          "88",
          "90",
          "90",
          "90",
          "90",
          "90",
          "?",
          "Federal-gov",
          "Local-gov",
          "Never-worked",
          "Private",
          "Self-emp-inc",
          "Self-emp-not-inc",
          "State-gov",
          "Without-pay"
         ],
         "name": "",
         "parents": [
          "?",
          "Federal-gov",
          "Local-gov",
          "Never-worked",
          "Private",
          "Self-emp-inc",
          "Self-emp-not-inc",
          "State-gov",
          "?",
          "Federal-gov",
          "Local-gov",
          "Never-worked",
          "Private",
          "Self-emp-inc",
          "Self-emp-not-inc",
          "State-gov",
          "?",
          "Federal-gov",
          "Local-gov",
          "Private",
          "Self-emp-inc",
          "Self-emp-not-inc",
          "State-gov",
          "Without-pay",
          "?",
          "Federal-gov",
          "Local-gov",
          "Never-worked",
          "Private",
          "Self-emp-inc",
          "Self-emp-not-inc",
          "State-gov",
          "?",
          "Federal-gov",
          "Local-gov",
          "Private",
          "Self-emp-inc",
          "Self-emp-not-inc",
          "State-gov",
          "Without-pay",
          "?",
          "Federal-gov",
          "Local-gov",
          "Private",
          "Self-emp-inc",
          "Self-emp-not-inc",
          "State-gov",
          "Without-pay",
          "?",
          "Federal-gov",
          "Local-gov",
          "Never-worked",
          "Private",
          "Self-emp-inc",
          "Self-emp-not-inc",
          "State-gov",
          "?",
          "Federal-gov",
          "Local-gov",
          "Private",
          "Self-emp-inc",
          "Self-emp-not-inc",
          "State-gov",
          "?",
          "Federal-gov",
          "Local-gov",
          "Private",
          "Self-emp-inc",
          "Self-emp-not-inc",
          "State-gov",
          "?",
          "Federal-gov",
          "Local-gov",
          "Private",
          "Self-emp-inc",
          "Self-emp-not-inc",
          "State-gov",
          "?",
          "Federal-gov",
          "Local-gov",
          "Private",
          "Self-emp-inc",
          "Self-emp-not-inc",
          "State-gov",
          "?",
          "Federal-gov",
          "Local-gov",
          "Private",
          "Self-emp-inc",
          "Self-emp-not-inc",
          "State-gov",
          "?",
          "Federal-gov",
          "Local-gov",
          "Private",
          "Self-emp-inc",
          "Self-emp-not-inc",
          "State-gov",
          "Without-pay",
          "?",
          "Federal-gov",
          "Local-gov",
          "Never-worked",
          "Private",
          "Self-emp-inc",
          "Self-emp-not-inc",
          "State-gov",
          "?",
          "Federal-gov",
          "Local-gov",
          "Private",
          "Self-emp-inc",
          "Self-emp-not-inc",
          "State-gov",
          "?",
          "Federal-gov",
          "Local-gov",
          "Private",
          "Self-emp-inc",
          "Self-emp-not-inc",
          "State-gov",
          "?",
          "Federal-gov",
          "Local-gov",
          "Private",
          "Self-emp-inc",
          "Self-emp-not-inc",
          "State-gov",
          "?",
          "Federal-gov",
          "Local-gov",
          "Private",
          "Self-emp-inc",
          "Self-emp-not-inc",
          "State-gov",
          "?",
          "Federal-gov",
          "Local-gov",
          "Private",
          "Self-emp-inc",
          "Self-emp-not-inc",
          "State-gov",
          "?",
          "Federal-gov",
          "Local-gov",
          "Private",
          "Self-emp-inc",
          "Self-emp-not-inc",
          "State-gov",
          "?",
          "Federal-gov",
          "Local-gov",
          "Private",
          "Self-emp-inc",
          "Self-emp-not-inc",
          "State-gov",
          "?",
          "Federal-gov",
          "Local-gov",
          "Private",
          "Self-emp-inc",
          "Self-emp-not-inc",
          "State-gov",
          "?",
          "Federal-gov",
          "Local-gov",
          "Private",
          "Self-emp-inc",
          "Self-emp-not-inc",
          "State-gov",
          "?",
          "Federal-gov",
          "Local-gov",
          "Private",
          "Self-emp-inc",
          "Self-emp-not-inc",
          "State-gov",
          "?",
          "Federal-gov",
          "Local-gov",
          "Private",
          "Self-emp-inc",
          "Self-emp-not-inc",
          "State-gov",
          "?",
          "Federal-gov",
          "Local-gov",
          "Private",
          "Self-emp-inc",
          "Self-emp-not-inc",
          "State-gov",
          "?",
          "Federal-gov",
          "Local-gov",
          "Private",
          "Self-emp-inc",
          "Self-emp-not-inc",
          "State-gov",
          "?",
          "Federal-gov",
          "Local-gov",
          "Private",
          "Self-emp-inc",
          "Self-emp-not-inc",
          "State-gov",
          "?",
          "Federal-gov",
          "Local-gov",
          "Private",
          "Self-emp-inc",
          "Self-emp-not-inc",
          "State-gov",
          "?",
          "Federal-gov",
          "Local-gov",
          "Private",
          "Self-emp-inc",
          "Self-emp-not-inc",
          "State-gov",
          "Without-pay",
          "?",
          "Federal-gov",
          "Local-gov",
          "Private",
          "Self-emp-inc",
          "Self-emp-not-inc",
          "State-gov",
          "?",
          "Federal-gov",
          "Local-gov",
          "Private",
          "Self-emp-inc",
          "Self-emp-not-inc",
          "State-gov",
          "?",
          "Federal-gov",
          "Local-gov",
          "Private",
          "Self-emp-inc",
          "Self-emp-not-inc",
          "State-gov",
          "?",
          "Federal-gov",
          "Local-gov",
          "Private",
          "Self-emp-inc",
          "Self-emp-not-inc",
          "State-gov",
          "?",
          "Federal-gov",
          "Local-gov",
          "Private",
          "Self-emp-inc",
          "Self-emp-not-inc",
          "State-gov",
          "?",
          "Federal-gov",
          "Local-gov",
          "Private",
          "Self-emp-inc",
          "Self-emp-not-inc",
          "State-gov",
          "Without-pay",
          "?",
          "Federal-gov",
          "Local-gov",
          "Private",
          "Self-emp-inc",
          "Self-emp-not-inc",
          "State-gov",
          "?",
          "Federal-gov",
          "Local-gov",
          "Private",
          "Self-emp-inc",
          "Self-emp-not-inc",
          "State-gov",
          "?",
          "Federal-gov",
          "Local-gov",
          "Private",
          "Self-emp-inc",
          "Self-emp-not-inc",
          "State-gov",
          "?",
          "Federal-gov",
          "Local-gov",
          "Private",
          "Self-emp-inc",
          "Self-emp-not-inc",
          "State-gov",
          "?",
          "Federal-gov",
          "Local-gov",
          "Private",
          "Self-emp-inc",
          "Self-emp-not-inc",
          "State-gov",
          "?",
          "Federal-gov",
          "Local-gov",
          "Private",
          "Self-emp-inc",
          "Self-emp-not-inc",
          "State-gov",
          "?",
          "Federal-gov",
          "Local-gov",
          "Private",
          "Self-emp-inc",
          "Self-emp-not-inc",
          "State-gov",
          "?",
          "Federal-gov",
          "Local-gov",
          "Private",
          "Self-emp-inc",
          "Self-emp-not-inc",
          "State-gov",
          "?",
          "Federal-gov",
          "Local-gov",
          "Private",
          "Self-emp-inc",
          "Self-emp-not-inc",
          "State-gov",
          "?",
          "Federal-gov",
          "Local-gov",
          "Private",
          "Self-emp-inc",
          "Self-emp-not-inc",
          "State-gov",
          "Without-pay",
          "?",
          "Federal-gov",
          "Local-gov",
          "Private",
          "Self-emp-inc",
          "Self-emp-not-inc",
          "State-gov",
          "?",
          "Federal-gov",
          "Local-gov",
          "Private",
          "Self-emp-inc",
          "Self-emp-not-inc",
          "State-gov",
          "?",
          "Federal-gov",
          "Local-gov",
          "Private",
          "Self-emp-inc",
          "Self-emp-not-inc",
          "State-gov",
          "Without-pay",
          "?",
          "Federal-gov",
          "Local-gov",
          "Private",
          "Self-emp-inc",
          "Self-emp-not-inc",
          "State-gov",
          "?",
          "Federal-gov",
          "Local-gov",
          "Private",
          "Self-emp-inc",
          "Self-emp-not-inc",
          "State-gov",
          "Without-pay",
          "?",
          "Federal-gov",
          "Local-gov",
          "Private",
          "Self-emp-inc",
          "Self-emp-not-inc",
          "State-gov",
          "Without-pay",
          "?",
          "Federal-gov",
          "Local-gov",
          "Private",
          "Self-emp-inc",
          "Self-emp-not-inc",
          "State-gov",
          "?",
          "Federal-gov",
          "Local-gov",
          "Private",
          "Self-emp-inc",
          "Self-emp-not-inc",
          "State-gov",
          "?",
          "Federal-gov",
          "Local-gov",
          "Private",
          "Self-emp-inc",
          "Self-emp-not-inc",
          "State-gov",
          "?",
          "Federal-gov",
          "Local-gov",
          "Private",
          "Self-emp-inc",
          "Self-emp-not-inc",
          "Without-pay",
          "?",
          "Federal-gov",
          "Local-gov",
          "Private",
          "Self-emp-inc",
          "Self-emp-not-inc",
          "State-gov",
          "?",
          "Federal-gov",
          "Private",
          "Self-emp-inc",
          "Self-emp-not-inc",
          "State-gov",
          "?",
          "Local-gov",
          "Private",
          "Self-emp-inc",
          "Self-emp-not-inc",
          "State-gov",
          "?",
          "Federal-gov",
          "Local-gov",
          "Private",
          "Self-emp-inc",
          "Self-emp-not-inc",
          "?",
          "Local-gov",
          "Private",
          "Self-emp-inc",
          "Self-emp-not-inc",
          "?",
          "Local-gov",
          "Private",
          "Self-emp-inc",
          "Self-emp-not-inc",
          "?",
          "Federal-gov",
          "Local-gov",
          "Private",
          "Self-emp-inc",
          "Self-emp-not-inc",
          "?",
          "Local-gov",
          "Private",
          "Self-emp-not-inc",
          "?",
          "Private",
          "Self-emp-inc",
          "Self-emp-not-inc",
          "State-gov",
          "?",
          "Private",
          "Self-emp-inc",
          "Self-emp-not-inc",
          "?",
          "Private",
          "Self-emp-inc",
          "Self-emp-not-inc",
          "?",
          "Local-gov",
          "Private",
          "Self-emp-inc",
          "Self-emp-not-inc",
          "Private",
          "Self-emp-not-inc",
          "Private",
          "?",
          "Private",
          "Self-emp-not-inc",
          "?",
          "Federal-gov",
          "Local-gov",
          "Private",
          "Self-emp-not-inc",
          "",
          "",
          "",
          "",
          "",
          "",
          "",
          "",
          ""
         ],
         "type": "treemap",
         "values": [
          64,
          1,
          14,
          1,
          300,
          7,
          6,
          2,
          92,
          3,
          10,
          3,
          413,
          6,
          14,
          9,
          113,
          5,
          11,
          540,
          3,
          17,
          21,
          2,
          115,
          9,
          12,
          1,
          581,
          3,
          11,
          21,
          89,
          3,
          9,
          577,
          1,
          10,
          30,
          1,
          79,
          11,
          20,
          605,
          5,
          13,
          31,
          1,
          46,
          13,
          35,
          1,
          733,
          6,
          13,
          30,
          34,
          14,
          33,
          655,
          6,
          21,
          35,
          32,
          8,
          44,
          693,
          12,
          26,
          26,
          22,
          15,
          42,
          636,
          10,
          33,
          27,
          33,
          16,
          48,
          658,
          13,
          37,
          30,
          41,
          15,
          52,
          667,
          15,
          51,
          26,
          28,
          25,
          46,
          617,
          14,
          52,
          30,
          1,
          28,
          19,
          54,
          1,
          662,
          20,
          48,
          29,
          19,
          22,
          56,
          684,
          17,
          52,
          38,
          25,
          24,
          46,
          621,
          24,
          52,
          36,
          26,
          26,
          56,
          645,
          15,
          72,
          35,
          26,
          17,
          58,
          649,
          28,
          69,
          39,
          32,
          23,
          39,
          649,
          23,
          80,
          30,
          23,
          24,
          63,
          652,
          21,
          74,
          41,
          9,
          33,
          57,
          612,
          33,
          83,
          31,
          17,
          28,
          52,
          598,
          25,
          72,
          35,
          12,
          32,
          58,
          582,
          36,
          62,
          34,
          17,
          29,
          55,
          561,
          34,
          63,
          35,
          18,
          27,
          80,
          535,
          37,
          70,
          41,
          15,
          31,
          76,
          500,
          30,
          89,
          39,
          13,
          36,
          65,
          496,
          36,
          72,
          52,
          10,
          31,
          63,
          480,
          39,
          70,
          31,
          11,
          32,
          68,
          481,
          40,
          68,
          34,
          11,
          41,
          69,
          492,
          36,
          50,
          37,
          1,
          14,
          38,
          62,
          451,
          33,
          78,
          32,
          16,
          20,
          32,
          360,
          35,
          56,
          24,
          18,
          21,
          59,
          350,
          40,
          58,
          31,
          14,
          24,
          56,
          374,
          41,
          67,
          26,
          17,
          28,
          58,
          369,
          33,
          68,
          22,
          14,
          27,
          39,
          307,
          28,
          43,
          19,
          1,
          12,
          26,
          49,
          292,
          22,
          38,
          25,
          16,
          14,
          34,
          256,
          24,
          52,
          19,
          22,
          17,
          34,
          257,
          17,
          53,
          19,
          13,
          15,
          25,
          229,
          19,
          52,
          13,
          16,
          20,
          27,
          200,
          31,
          49,
          15,
          20,
          13,
          27,
          213,
          25,
          50,
          18,
          20,
          16,
          29,
          218,
          16,
          43,
          13,
          31,
          10,
          20,
          175,
          14,
          46,
          16,
          36,
          11,
          19,
          172,
          17,
          37,
          8,
          42,
          6,
          24,
          134,
          10,
          30,
          10,
          2,
          39,
          7,
          11,
          118,
          13,
          38,
          4,
          31,
          11,
          19,
          93,
          13,
          27,
          14,
          39,
          3,
          12,
          88,
          11,
          19,
          4,
          2,
          37,
          2,
          13,
          65,
          11,
          17,
          5,
          39,
          3,
          10,
          51,
          13,
          29,
          5,
          1,
          28,
          2,
          5,
          60,
          4,
          17,
          3,
          1,
          28,
          1,
          7,
          45,
          5,
          15,
          7,
          24,
          1,
          3,
          35,
          11,
          14,
          1,
          18,
          2,
          4,
          32,
          4,
          9,
          3,
          25,
          3,
          2,
          27,
          2,
          7,
          1,
          15,
          1,
          5,
          25,
          3,
          13,
          2,
          12,
          2,
          18,
          4,
          12,
          3,
          11,
          1,
          13,
          4,
          15,
          1,
          16,
          1,
          4,
          17,
          1,
          7,
          9,
          2,
          10,
          3,
          5,
          9,
          1,
          6,
          4,
          3,
          7,
          1,
          2,
          6,
          3,
          3,
          6,
          1,
          8,
          7,
          6,
          8,
          1,
          4,
          1,
          5,
          3,
          2,
          2,
          1,
          1,
          3,
          1,
          2,
          2,
          4,
          1,
          1,
          2,
          1,
          1,
          1,
          1,
          2,
          7,
          1,
          4,
          28,
          3,
          1836,
          960,
          2093,
          7,
          22696,
          1116,
          2541,
          1298,
          14
         ]
        }
       ],
       "layout": {
        "legend": {
         "tracegroupgap": 0
        },
        "margin": {
         "t": 60
        },
        "template": {
         "data": {
          "bar": [
           {
            "error_x": {
             "color": "#2a3f5f"
            },
            "error_y": {
             "color": "#2a3f5f"
            },
            "marker": {
             "line": {
              "color": "#E5ECF6",
              "width": 0.5
             },
             "pattern": {
              "fillmode": "overlay",
              "size": 10,
              "solidity": 0.2
             }
            },
            "type": "bar"
           }
          ],
          "barpolar": [
           {
            "marker": {
             "line": {
              "color": "#E5ECF6",
              "width": 0.5
             },
             "pattern": {
              "fillmode": "overlay",
              "size": 10,
              "solidity": 0.2
             }
            },
            "type": "barpolar"
           }
          ],
          "carpet": [
           {
            "aaxis": {
             "endlinecolor": "#2a3f5f",
             "gridcolor": "white",
             "linecolor": "white",
             "minorgridcolor": "white",
             "startlinecolor": "#2a3f5f"
            },
            "baxis": {
             "endlinecolor": "#2a3f5f",
             "gridcolor": "white",
             "linecolor": "white",
             "minorgridcolor": "white",
             "startlinecolor": "#2a3f5f"
            },
            "type": "carpet"
           }
          ],
          "choropleth": [
           {
            "colorbar": {
             "outlinewidth": 0,
             "ticks": ""
            },
            "type": "choropleth"
           }
          ],
          "contour": [
           {
            "colorbar": {
             "outlinewidth": 0,
             "ticks": ""
            },
            "colorscale": [
             [
              0,
              "#0d0887"
             ],
             [
              0.1111111111111111,
              "#46039f"
             ],
             [
              0.2222222222222222,
              "#7201a8"
             ],
             [
              0.3333333333333333,
              "#9c179e"
             ],
             [
              0.4444444444444444,
              "#bd3786"
             ],
             [
              0.5555555555555556,
              "#d8576b"
             ],
             [
              0.6666666666666666,
              "#ed7953"
             ],
             [
              0.7777777777777778,
              "#fb9f3a"
             ],
             [
              0.8888888888888888,
              "#fdca26"
             ],
             [
              1,
              "#f0f921"
             ]
            ],
            "type": "contour"
           }
          ],
          "contourcarpet": [
           {
            "colorbar": {
             "outlinewidth": 0,
             "ticks": ""
            },
            "type": "contourcarpet"
           }
          ],
          "heatmap": [
           {
            "colorbar": {
             "outlinewidth": 0,
             "ticks": ""
            },
            "colorscale": [
             [
              0,
              "#0d0887"
             ],
             [
              0.1111111111111111,
              "#46039f"
             ],
             [
              0.2222222222222222,
              "#7201a8"
             ],
             [
              0.3333333333333333,
              "#9c179e"
             ],
             [
              0.4444444444444444,
              "#bd3786"
             ],
             [
              0.5555555555555556,
              "#d8576b"
             ],
             [
              0.6666666666666666,
              "#ed7953"
             ],
             [
              0.7777777777777778,
              "#fb9f3a"
             ],
             [
              0.8888888888888888,
              "#fdca26"
             ],
             [
              1,
              "#f0f921"
             ]
            ],
            "type": "heatmap"
           }
          ],
          "heatmapgl": [
           {
            "colorbar": {
             "outlinewidth": 0,
             "ticks": ""
            },
            "colorscale": [
             [
              0,
              "#0d0887"
             ],
             [
              0.1111111111111111,
              "#46039f"
             ],
             [
              0.2222222222222222,
              "#7201a8"
             ],
             [
              0.3333333333333333,
              "#9c179e"
             ],
             [
              0.4444444444444444,
              "#bd3786"
             ],
             [
              0.5555555555555556,
              "#d8576b"
             ],
             [
              0.6666666666666666,
              "#ed7953"
             ],
             [
              0.7777777777777778,
              "#fb9f3a"
             ],
             [
              0.8888888888888888,
              "#fdca26"
             ],
             [
              1,
              "#f0f921"
             ]
            ],
            "type": "heatmapgl"
           }
          ],
          "histogram": [
           {
            "marker": {
             "pattern": {
              "fillmode": "overlay",
              "size": 10,
              "solidity": 0.2
             }
            },
            "type": "histogram"
           }
          ],
          "histogram2d": [
           {
            "colorbar": {
             "outlinewidth": 0,
             "ticks": ""
            },
            "colorscale": [
             [
              0,
              "#0d0887"
             ],
             [
              0.1111111111111111,
              "#46039f"
             ],
             [
              0.2222222222222222,
              "#7201a8"
             ],
             [
              0.3333333333333333,
              "#9c179e"
             ],
             [
              0.4444444444444444,
              "#bd3786"
             ],
             [
              0.5555555555555556,
              "#d8576b"
             ],
             [
              0.6666666666666666,
              "#ed7953"
             ],
             [
              0.7777777777777778,
              "#fb9f3a"
             ],
             [
              0.8888888888888888,
              "#fdca26"
             ],
             [
              1,
              "#f0f921"
             ]
            ],
            "type": "histogram2d"
           }
          ],
          "histogram2dcontour": [
           {
            "colorbar": {
             "outlinewidth": 0,
             "ticks": ""
            },
            "colorscale": [
             [
              0,
              "#0d0887"
             ],
             [
              0.1111111111111111,
              "#46039f"
             ],
             [
              0.2222222222222222,
              "#7201a8"
             ],
             [
              0.3333333333333333,
              "#9c179e"
             ],
             [
              0.4444444444444444,
              "#bd3786"
             ],
             [
              0.5555555555555556,
              "#d8576b"
             ],
             [
              0.6666666666666666,
              "#ed7953"
             ],
             [
              0.7777777777777778,
              "#fb9f3a"
             ],
             [
              0.8888888888888888,
              "#fdca26"
             ],
             [
              1,
              "#f0f921"
             ]
            ],
            "type": "histogram2dcontour"
           }
          ],
          "mesh3d": [
           {
            "colorbar": {
             "outlinewidth": 0,
             "ticks": ""
            },
            "type": "mesh3d"
           }
          ],
          "parcoords": [
           {
            "line": {
             "colorbar": {
              "outlinewidth": 0,
              "ticks": ""
             }
            },
            "type": "parcoords"
           }
          ],
          "pie": [
           {
            "automargin": true,
            "type": "pie"
           }
          ],
          "scatter": [
           {
            "fillpattern": {
             "fillmode": "overlay",
             "size": 10,
             "solidity": 0.2
            },
            "type": "scatter"
           }
          ],
          "scatter3d": [
           {
            "line": {
             "colorbar": {
              "outlinewidth": 0,
              "ticks": ""
             }
            },
            "marker": {
             "colorbar": {
              "outlinewidth": 0,
              "ticks": ""
             }
            },
            "type": "scatter3d"
           }
          ],
          "scattercarpet": [
           {
            "marker": {
             "colorbar": {
              "outlinewidth": 0,
              "ticks": ""
             }
            },
            "type": "scattercarpet"
           }
          ],
          "scattergeo": [
           {
            "marker": {
             "colorbar": {
              "outlinewidth": 0,
              "ticks": ""
             }
            },
            "type": "scattergeo"
           }
          ],
          "scattergl": [
           {
            "marker": {
             "colorbar": {
              "outlinewidth": 0,
              "ticks": ""
             }
            },
            "type": "scattergl"
           }
          ],
          "scattermapbox": [
           {
            "marker": {
             "colorbar": {
              "outlinewidth": 0,
              "ticks": ""
             }
            },
            "type": "scattermapbox"
           }
          ],
          "scatterpolar": [
           {
            "marker": {
             "colorbar": {
              "outlinewidth": 0,
              "ticks": ""
             }
            },
            "type": "scatterpolar"
           }
          ],
          "scatterpolargl": [
           {
            "marker": {
             "colorbar": {
              "outlinewidth": 0,
              "ticks": ""
             }
            },
            "type": "scatterpolargl"
           }
          ],
          "scatterternary": [
           {
            "marker": {
             "colorbar": {
              "outlinewidth": 0,
              "ticks": ""
             }
            },
            "type": "scatterternary"
           }
          ],
          "surface": [
           {
            "colorbar": {
             "outlinewidth": 0,
             "ticks": ""
            },
            "colorscale": [
             [
              0,
              "#0d0887"
             ],
             [
              0.1111111111111111,
              "#46039f"
             ],
             [
              0.2222222222222222,
              "#7201a8"
             ],
             [
              0.3333333333333333,
              "#9c179e"
             ],
             [
              0.4444444444444444,
              "#bd3786"
             ],
             [
              0.5555555555555556,
              "#d8576b"
             ],
             [
              0.6666666666666666,
              "#ed7953"
             ],
             [
              0.7777777777777778,
              "#fb9f3a"
             ],
             [
              0.8888888888888888,
              "#fdca26"
             ],
             [
              1,
              "#f0f921"
             ]
            ],
            "type": "surface"
           }
          ],
          "table": [
           {
            "cells": {
             "fill": {
              "color": "#EBF0F8"
             },
             "line": {
              "color": "white"
             }
            },
            "header": {
             "fill": {
              "color": "#C8D4E3"
             },
             "line": {
              "color": "white"
             }
            },
            "type": "table"
           }
          ]
         },
         "layout": {
          "annotationdefaults": {
           "arrowcolor": "#2a3f5f",
           "arrowhead": 0,
           "arrowwidth": 1
          },
          "autotypenumbers": "strict",
          "coloraxis": {
           "colorbar": {
            "outlinewidth": 0,
            "ticks": ""
           }
          },
          "colorscale": {
           "diverging": [
            [
             0,
             "#8e0152"
            ],
            [
             0.1,
             "#c51b7d"
            ],
            [
             0.2,
             "#de77ae"
            ],
            [
             0.3,
             "#f1b6da"
            ],
            [
             0.4,
             "#fde0ef"
            ],
            [
             0.5,
             "#f7f7f7"
            ],
            [
             0.6,
             "#e6f5d0"
            ],
            [
             0.7,
             "#b8e186"
            ],
            [
             0.8,
             "#7fbc41"
            ],
            [
             0.9,
             "#4d9221"
            ],
            [
             1,
             "#276419"
            ]
           ],
           "sequential": [
            [
             0,
             "#0d0887"
            ],
            [
             0.1111111111111111,
             "#46039f"
            ],
            [
             0.2222222222222222,
             "#7201a8"
            ],
            [
             0.3333333333333333,
             "#9c179e"
            ],
            [
             0.4444444444444444,
             "#bd3786"
            ],
            [
             0.5555555555555556,
             "#d8576b"
            ],
            [
             0.6666666666666666,
             "#ed7953"
            ],
            [
             0.7777777777777778,
             "#fb9f3a"
            ],
            [
             0.8888888888888888,
             "#fdca26"
            ],
            [
             1,
             "#f0f921"
            ]
           ],
           "sequentialminus": [
            [
             0,
             "#0d0887"
            ],
            [
             0.1111111111111111,
             "#46039f"
            ],
            [
             0.2222222222222222,
             "#7201a8"
            ],
            [
             0.3333333333333333,
             "#9c179e"
            ],
            [
             0.4444444444444444,
             "#bd3786"
            ],
            [
             0.5555555555555556,
             "#d8576b"
            ],
            [
             0.6666666666666666,
             "#ed7953"
            ],
            [
             0.7777777777777778,
             "#fb9f3a"
            ],
            [
             0.8888888888888888,
             "#fdca26"
            ],
            [
             1,
             "#f0f921"
            ]
           ]
          },
          "colorway": [
           "#636efa",
           "#EF553B",
           "#00cc96",
           "#ab63fa",
           "#FFA15A",
           "#19d3f3",
           "#FF6692",
           "#B6E880",
           "#FF97FF",
           "#FECB52"
          ],
          "font": {
           "color": "#2a3f5f"
          },
          "geo": {
           "bgcolor": "white",
           "lakecolor": "white",
           "landcolor": "#E5ECF6",
           "showlakes": true,
           "showland": true,
           "subunitcolor": "white"
          },
          "hoverlabel": {
           "align": "left"
          },
          "hovermode": "closest",
          "mapbox": {
           "style": "light"
          },
          "paper_bgcolor": "white",
          "plot_bgcolor": "#E5ECF6",
          "polar": {
           "angularaxis": {
            "gridcolor": "white",
            "linecolor": "white",
            "ticks": ""
           },
           "bgcolor": "#E5ECF6",
           "radialaxis": {
            "gridcolor": "white",
            "linecolor": "white",
            "ticks": ""
           }
          },
          "scene": {
           "xaxis": {
            "backgroundcolor": "#E5ECF6",
            "gridcolor": "white",
            "gridwidth": 2,
            "linecolor": "white",
            "showbackground": true,
            "ticks": "",
            "zerolinecolor": "white"
           },
           "yaxis": {
            "backgroundcolor": "#E5ECF6",
            "gridcolor": "white",
            "gridwidth": 2,
            "linecolor": "white",
            "showbackground": true,
            "ticks": "",
            "zerolinecolor": "white"
           },
           "zaxis": {
            "backgroundcolor": "#E5ECF6",
            "gridcolor": "white",
            "gridwidth": 2,
            "linecolor": "white",
            "showbackground": true,
            "ticks": "",
            "zerolinecolor": "white"
           }
          },
          "shapedefaults": {
           "line": {
            "color": "#2a3f5f"
           }
          },
          "ternary": {
           "aaxis": {
            "gridcolor": "white",
            "linecolor": "white",
            "ticks": ""
           },
           "baxis": {
            "gridcolor": "white",
            "linecolor": "white",
            "ticks": ""
           },
           "bgcolor": "#E5ECF6",
           "caxis": {
            "gridcolor": "white",
            "linecolor": "white",
            "ticks": ""
           }
          },
          "title": {
           "x": 0.05
          },
          "xaxis": {
           "automargin": true,
           "gridcolor": "white",
           "linecolor": "white",
           "ticks": "",
           "title": {
            "standoff": 15
           },
           "zerolinecolor": "white",
           "zerolinewidth": 2
          },
          "yaxis": {
           "automargin": true,
           "gridcolor": "white",
           "linecolor": "white",
           "ticks": "",
           "title": {
            "standoff": 15
           },
           "zerolinecolor": "white",
           "zerolinewidth": 2
          }
         }
        }
       }
      }
     },
     "metadata": {},
     "output_type": "display_data"
    }
   ],
   "source": [
    "grafico = px.treemap(censu, path=['workclass', 'age'])\n",
    "grafico.show()\n",
    "del(grafico)"
   ]
  },
  {
   "cell_type": "markdown",
   "metadata": {},
   "source": [
    "## 3 - Preparação dos dados"
   ]
  },
  {
   "cell_type": "markdown",
   "metadata": {},
   "source": [
    "Separa os dados nas variáveis em:\n",
    "\n",
    " - `preditoras (x)`: utilizadas para ensinar o modelo\n",
    " - `resposta (y)`: valor que desejamos encontrar"
   ]
  },
  {
   "cell_type": "code",
   "execution_count": 55,
   "metadata": {},
   "outputs": [],
   "source": [
    "# utilizaremos todas as variáveis da base, com excessão de: income (variável y) e educatuon-num\n",
    "x_censu = censu[censu.columns[~censu.columns.isin(['index', 'income', 'education-num'])]]\n",
    "y_censu = censu.income"
   ]
  },
  {
   "cell_type": "markdown",
   "metadata": {},
   "source": [
    "Para cada coluna categórica será criada uma coluna semelhante com classificação numérica para que possa ser utilizada em modelos que não permitam o uso de dados assim. Este processo é chamado de `Label encoding`"
   ]
  },
  {
   "cell_type": "code",
   "execution_count": 56,
   "metadata": {},
   "outputs": [],
   "source": [
    "from sklearn.preprocessing import LabelEncoder\n",
    "\n",
    "for column in x_censu:\n",
    "    if x_censu[column].dtype == object:\n",
    "        #print(column + '_encoded')\n",
    "        label_encoder = LabelEncoder()\n",
    "        x_censu[str(column) + '_encoded'] = label_encoder.fit_transform(x_censu[column])\n",
    "\n",
    "\n",
    "del(label_encoder)\n",
    "del(column)"
   ]
  },
  {
   "cell_type": "markdown",
   "metadata": {},
   "source": [
    "Separação dos dados em `teste` (75%) e `treino` (25%)"
   ]
  },
  {
   "cell_type": "code",
   "execution_count": 57,
   "metadata": {},
   "outputs": [],
   "source": [
    "from sklearn.model_selection import train_test_split\n",
    "\n",
    "x_censu_treino, x_censu_teste, y_censu_treino, y_censu_teste = train_test_split(x_censu, y_censu, test_size = 0.25, random_state = 0)"
   ]
  },
  {
   "cell_type": "markdown",
   "metadata": {},
   "source": [
    "Os dados serão salvos no arquivo `censu.pkl` para que possam ser utilizado nos modelos sem a necessidade de novo carregamento e transformação"
   ]
  },
  {
   "cell_type": "code",
   "execution_count": 58,
   "metadata": {},
   "outputs": [],
   "source": [
    "import pickle\n",
    "\n",
    "with open('censu.pkl', mode = 'wb') as f:\n",
    "  pickle.dump([x_censu, y_censu, x_censu_treino, y_censu_treino, x_censu_teste, y_censu_teste], f)\n",
    "\n",
    "del(f)"
   ]
  },
  {
   "cell_type": "markdown",
   "metadata": {},
   "source": [
    "## 4 - Naive Bayes"
   ]
  },
  {
   "cell_type": "markdown",
   "metadata": {},
   "source": [
    "### 4.1 - Label encoding"
   ]
  },
  {
   "cell_type": "markdown",
   "metadata": {},
   "source": [
    "Carregamento dos dados de treino e teste"
   ]
  },
  {
   "cell_type": "code",
   "execution_count": 59,
   "metadata": {},
   "outputs": [],
   "source": [
    "import pickle\n",
    "with open('censu.pkl', 'rb') as f:\n",
    "  x_censu, y_censu,x_censu_treino, y_censu_treino, x_censu_teste, y_censu_teste = pickle.load(f)\n",
    "\n",
    "del(f)"
   ]
  },
  {
   "cell_type": "markdown",
   "metadata": {},
   "source": [
    "Para o método Naive Bayes serão utilizados apenas os dados numéricos, neste caso serão mantidas as colunas categóricas que foram convertidas"
   ]
  },
  {
   "cell_type": "code",
   "execution_count": 60,
   "metadata": {},
   "outputs": [],
   "source": [
    "# apenas colunas serão utilizadas\n",
    "names = ['age', 'fnlwgt', 'capital-gain', 'capital-loss', 'hours-per-week', 'workclass_encoded', 'education_encoded', 'marital-status_encoded', 'occupation_encoded', 'relationship_encoded', 'race_encoded', 'sex_encoded', 'native-country_encoded']\n",
    "\n",
    "x_censu_treino = x_censu_treino[names]\n",
    "x_censu_teste = x_censu_teste[names]\n",
    "\n",
    "del(names)"
   ]
  },
  {
   "cell_type": "markdown",
   "metadata": {},
   "source": [
    "O método Naive Bayes tende a apresentar melhores resultados quando os dados são estão padronizados, ou seja, que seus valores sejam todos colocados em uma escala, ja que temos valores com amplitude diferentes em cada coluna"
   ]
  },
  {
   "cell_type": "code",
   "execution_count": 61,
   "metadata": {},
   "outputs": [],
   "source": [
    "#método z-score para padronizar as variveis explicativas\n",
    "from sklearn.preprocessing import StandardScaler\n",
    "scaler = StandardScaler()\n",
    "\n",
    "#a padronização dos dados é feita apenas com as colunas numéricas\n",
    "x_censu_treino = scaler.fit_transform(x_censu_treino)\n",
    "\n",
    "del(scaler)"
   ]
  },
  {
   "cell_type": "markdown",
   "metadata": {},
   "source": [
    "Criação e execução do modelo"
   ]
  },
  {
   "cell_type": "code",
   "execution_count": 62,
   "metadata": {},
   "outputs": [
    {
     "data": {
      "application/vnd.plotly.v1+json": {
       "config": {
        "plotlyServerURL": "https://plot.ly"
       },
       "data": [
        {
         "alignmentgroup": "True",
         "hovertemplate": "desc=%{y}<br>score=%{x}<extra></extra>",
         "legendgroup": "Naive Bayes - label encoding",
         "marker": {
          "color": "#636efa",
          "pattern": {
           "shape": ""
          }
         },
         "name": "Naive Bayes - label encoding",
         "offsetgroup": "Naive Bayes - label encoding",
         "orientation": "h",
         "showlegend": true,
         "textposition": "auto",
         "type": "bar",
         "x": [
          0.7892150841419973
         ],
         "xaxis": "x",
         "y": [
          "Naive Bayes - label encoding"
         ],
         "yaxis": "y"
        }
       ],
       "layout": {
        "barmode": "relative",
        "legend": {
         "title": {
          "text": "desc"
         },
         "tracegroupgap": 0
        },
        "template": {
         "data": {
          "bar": [
           {
            "error_x": {
             "color": "#2a3f5f"
            },
            "error_y": {
             "color": "#2a3f5f"
            },
            "marker": {
             "line": {
              "color": "#E5ECF6",
              "width": 0.5
             },
             "pattern": {
              "fillmode": "overlay",
              "size": 10,
              "solidity": 0.2
             }
            },
            "type": "bar"
           }
          ],
          "barpolar": [
           {
            "marker": {
             "line": {
              "color": "#E5ECF6",
              "width": 0.5
             },
             "pattern": {
              "fillmode": "overlay",
              "size": 10,
              "solidity": 0.2
             }
            },
            "type": "barpolar"
           }
          ],
          "carpet": [
           {
            "aaxis": {
             "endlinecolor": "#2a3f5f",
             "gridcolor": "white",
             "linecolor": "white",
             "minorgridcolor": "white",
             "startlinecolor": "#2a3f5f"
            },
            "baxis": {
             "endlinecolor": "#2a3f5f",
             "gridcolor": "white",
             "linecolor": "white",
             "minorgridcolor": "white",
             "startlinecolor": "#2a3f5f"
            },
            "type": "carpet"
           }
          ],
          "choropleth": [
           {
            "colorbar": {
             "outlinewidth": 0,
             "ticks": ""
            },
            "type": "choropleth"
           }
          ],
          "contour": [
           {
            "colorbar": {
             "outlinewidth": 0,
             "ticks": ""
            },
            "colorscale": [
             [
              0,
              "#0d0887"
             ],
             [
              0.1111111111111111,
              "#46039f"
             ],
             [
              0.2222222222222222,
              "#7201a8"
             ],
             [
              0.3333333333333333,
              "#9c179e"
             ],
             [
              0.4444444444444444,
              "#bd3786"
             ],
             [
              0.5555555555555556,
              "#d8576b"
             ],
             [
              0.6666666666666666,
              "#ed7953"
             ],
             [
              0.7777777777777778,
              "#fb9f3a"
             ],
             [
              0.8888888888888888,
              "#fdca26"
             ],
             [
              1,
              "#f0f921"
             ]
            ],
            "type": "contour"
           }
          ],
          "contourcarpet": [
           {
            "colorbar": {
             "outlinewidth": 0,
             "ticks": ""
            },
            "type": "contourcarpet"
           }
          ],
          "heatmap": [
           {
            "colorbar": {
             "outlinewidth": 0,
             "ticks": ""
            },
            "colorscale": [
             [
              0,
              "#0d0887"
             ],
             [
              0.1111111111111111,
              "#46039f"
             ],
             [
              0.2222222222222222,
              "#7201a8"
             ],
             [
              0.3333333333333333,
              "#9c179e"
             ],
             [
              0.4444444444444444,
              "#bd3786"
             ],
             [
              0.5555555555555556,
              "#d8576b"
             ],
             [
              0.6666666666666666,
              "#ed7953"
             ],
             [
              0.7777777777777778,
              "#fb9f3a"
             ],
             [
              0.8888888888888888,
              "#fdca26"
             ],
             [
              1,
              "#f0f921"
             ]
            ],
            "type": "heatmap"
           }
          ],
          "heatmapgl": [
           {
            "colorbar": {
             "outlinewidth": 0,
             "ticks": ""
            },
            "colorscale": [
             [
              0,
              "#0d0887"
             ],
             [
              0.1111111111111111,
              "#46039f"
             ],
             [
              0.2222222222222222,
              "#7201a8"
             ],
             [
              0.3333333333333333,
              "#9c179e"
             ],
             [
              0.4444444444444444,
              "#bd3786"
             ],
             [
              0.5555555555555556,
              "#d8576b"
             ],
             [
              0.6666666666666666,
              "#ed7953"
             ],
             [
              0.7777777777777778,
              "#fb9f3a"
             ],
             [
              0.8888888888888888,
              "#fdca26"
             ],
             [
              1,
              "#f0f921"
             ]
            ],
            "type": "heatmapgl"
           }
          ],
          "histogram": [
           {
            "marker": {
             "pattern": {
              "fillmode": "overlay",
              "size": 10,
              "solidity": 0.2
             }
            },
            "type": "histogram"
           }
          ],
          "histogram2d": [
           {
            "colorbar": {
             "outlinewidth": 0,
             "ticks": ""
            },
            "colorscale": [
             [
              0,
              "#0d0887"
             ],
             [
              0.1111111111111111,
              "#46039f"
             ],
             [
              0.2222222222222222,
              "#7201a8"
             ],
             [
              0.3333333333333333,
              "#9c179e"
             ],
             [
              0.4444444444444444,
              "#bd3786"
             ],
             [
              0.5555555555555556,
              "#d8576b"
             ],
             [
              0.6666666666666666,
              "#ed7953"
             ],
             [
              0.7777777777777778,
              "#fb9f3a"
             ],
             [
              0.8888888888888888,
              "#fdca26"
             ],
             [
              1,
              "#f0f921"
             ]
            ],
            "type": "histogram2d"
           }
          ],
          "histogram2dcontour": [
           {
            "colorbar": {
             "outlinewidth": 0,
             "ticks": ""
            },
            "colorscale": [
             [
              0,
              "#0d0887"
             ],
             [
              0.1111111111111111,
              "#46039f"
             ],
             [
              0.2222222222222222,
              "#7201a8"
             ],
             [
              0.3333333333333333,
              "#9c179e"
             ],
             [
              0.4444444444444444,
              "#bd3786"
             ],
             [
              0.5555555555555556,
              "#d8576b"
             ],
             [
              0.6666666666666666,
              "#ed7953"
             ],
             [
              0.7777777777777778,
              "#fb9f3a"
             ],
             [
              0.8888888888888888,
              "#fdca26"
             ],
             [
              1,
              "#f0f921"
             ]
            ],
            "type": "histogram2dcontour"
           }
          ],
          "mesh3d": [
           {
            "colorbar": {
             "outlinewidth": 0,
             "ticks": ""
            },
            "type": "mesh3d"
           }
          ],
          "parcoords": [
           {
            "line": {
             "colorbar": {
              "outlinewidth": 0,
              "ticks": ""
             }
            },
            "type": "parcoords"
           }
          ],
          "pie": [
           {
            "automargin": true,
            "type": "pie"
           }
          ],
          "scatter": [
           {
            "fillpattern": {
             "fillmode": "overlay",
             "size": 10,
             "solidity": 0.2
            },
            "type": "scatter"
           }
          ],
          "scatter3d": [
           {
            "line": {
             "colorbar": {
              "outlinewidth": 0,
              "ticks": ""
             }
            },
            "marker": {
             "colorbar": {
              "outlinewidth": 0,
              "ticks": ""
             }
            },
            "type": "scatter3d"
           }
          ],
          "scattercarpet": [
           {
            "marker": {
             "colorbar": {
              "outlinewidth": 0,
              "ticks": ""
             }
            },
            "type": "scattercarpet"
           }
          ],
          "scattergeo": [
           {
            "marker": {
             "colorbar": {
              "outlinewidth": 0,
              "ticks": ""
             }
            },
            "type": "scattergeo"
           }
          ],
          "scattergl": [
           {
            "marker": {
             "colorbar": {
              "outlinewidth": 0,
              "ticks": ""
             }
            },
            "type": "scattergl"
           }
          ],
          "scattermapbox": [
           {
            "marker": {
             "colorbar": {
              "outlinewidth": 0,
              "ticks": ""
             }
            },
            "type": "scattermapbox"
           }
          ],
          "scatterpolar": [
           {
            "marker": {
             "colorbar": {
              "outlinewidth": 0,
              "ticks": ""
             }
            },
            "type": "scatterpolar"
           }
          ],
          "scatterpolargl": [
           {
            "marker": {
             "colorbar": {
              "outlinewidth": 0,
              "ticks": ""
             }
            },
            "type": "scatterpolargl"
           }
          ],
          "scatterternary": [
           {
            "marker": {
             "colorbar": {
              "outlinewidth": 0,
              "ticks": ""
             }
            },
            "type": "scatterternary"
           }
          ],
          "surface": [
           {
            "colorbar": {
             "outlinewidth": 0,
             "ticks": ""
            },
            "colorscale": [
             [
              0,
              "#0d0887"
             ],
             [
              0.1111111111111111,
              "#46039f"
             ],
             [
              0.2222222222222222,
              "#7201a8"
             ],
             [
              0.3333333333333333,
              "#9c179e"
             ],
             [
              0.4444444444444444,
              "#bd3786"
             ],
             [
              0.5555555555555556,
              "#d8576b"
             ],
             [
              0.6666666666666666,
              "#ed7953"
             ],
             [
              0.7777777777777778,
              "#fb9f3a"
             ],
             [
              0.8888888888888888,
              "#fdca26"
             ],
             [
              1,
              "#f0f921"
             ]
            ],
            "type": "surface"
           }
          ],
          "table": [
           {
            "cells": {
             "fill": {
              "color": "#EBF0F8"
             },
             "line": {
              "color": "white"
             }
            },
            "header": {
             "fill": {
              "color": "#C8D4E3"
             },
             "line": {
              "color": "white"
             }
            },
            "type": "table"
           }
          ]
         },
         "layout": {
          "annotationdefaults": {
           "arrowcolor": "#2a3f5f",
           "arrowhead": 0,
           "arrowwidth": 1
          },
          "autotypenumbers": "strict",
          "coloraxis": {
           "colorbar": {
            "outlinewidth": 0,
            "ticks": ""
           }
          },
          "colorscale": {
           "diverging": [
            [
             0,
             "#8e0152"
            ],
            [
             0.1,
             "#c51b7d"
            ],
            [
             0.2,
             "#de77ae"
            ],
            [
             0.3,
             "#f1b6da"
            ],
            [
             0.4,
             "#fde0ef"
            ],
            [
             0.5,
             "#f7f7f7"
            ],
            [
             0.6,
             "#e6f5d0"
            ],
            [
             0.7,
             "#b8e186"
            ],
            [
             0.8,
             "#7fbc41"
            ],
            [
             0.9,
             "#4d9221"
            ],
            [
             1,
             "#276419"
            ]
           ],
           "sequential": [
            [
             0,
             "#0d0887"
            ],
            [
             0.1111111111111111,
             "#46039f"
            ],
            [
             0.2222222222222222,
             "#7201a8"
            ],
            [
             0.3333333333333333,
             "#9c179e"
            ],
            [
             0.4444444444444444,
             "#bd3786"
            ],
            [
             0.5555555555555556,
             "#d8576b"
            ],
            [
             0.6666666666666666,
             "#ed7953"
            ],
            [
             0.7777777777777778,
             "#fb9f3a"
            ],
            [
             0.8888888888888888,
             "#fdca26"
            ],
            [
             1,
             "#f0f921"
            ]
           ],
           "sequentialminus": [
            [
             0,
             "#0d0887"
            ],
            [
             0.1111111111111111,
             "#46039f"
            ],
            [
             0.2222222222222222,
             "#7201a8"
            ],
            [
             0.3333333333333333,
             "#9c179e"
            ],
            [
             0.4444444444444444,
             "#bd3786"
            ],
            [
             0.5555555555555556,
             "#d8576b"
            ],
            [
             0.6666666666666666,
             "#ed7953"
            ],
            [
             0.7777777777777778,
             "#fb9f3a"
            ],
            [
             0.8888888888888888,
             "#fdca26"
            ],
            [
             1,
             "#f0f921"
            ]
           ]
          },
          "colorway": [
           "#636efa",
           "#EF553B",
           "#00cc96",
           "#ab63fa",
           "#FFA15A",
           "#19d3f3",
           "#FF6692",
           "#B6E880",
           "#FF97FF",
           "#FECB52"
          ],
          "font": {
           "color": "#2a3f5f"
          },
          "geo": {
           "bgcolor": "white",
           "lakecolor": "white",
           "landcolor": "#E5ECF6",
           "showlakes": true,
           "showland": true,
           "subunitcolor": "white"
          },
          "hoverlabel": {
           "align": "left"
          },
          "hovermode": "closest",
          "mapbox": {
           "style": "light"
          },
          "paper_bgcolor": "white",
          "plot_bgcolor": "#E5ECF6",
          "polar": {
           "angularaxis": {
            "gridcolor": "white",
            "linecolor": "white",
            "ticks": ""
           },
           "bgcolor": "#E5ECF6",
           "radialaxis": {
            "gridcolor": "white",
            "linecolor": "white",
            "ticks": ""
           }
          },
          "scene": {
           "xaxis": {
            "backgroundcolor": "#E5ECF6",
            "gridcolor": "white",
            "gridwidth": 2,
            "linecolor": "white",
            "showbackground": true,
            "ticks": "",
            "zerolinecolor": "white"
           },
           "yaxis": {
            "backgroundcolor": "#E5ECF6",
            "gridcolor": "white",
            "gridwidth": 2,
            "linecolor": "white",
            "showbackground": true,
            "ticks": "",
            "zerolinecolor": "white"
           },
           "zaxis": {
            "backgroundcolor": "#E5ECF6",
            "gridcolor": "white",
            "gridwidth": 2,
            "linecolor": "white",
            "showbackground": true,
            "ticks": "",
            "zerolinecolor": "white"
           }
          },
          "shapedefaults": {
           "line": {
            "color": "#2a3f5f"
           }
          },
          "ternary": {
           "aaxis": {
            "gridcolor": "white",
            "linecolor": "white",
            "ticks": ""
           },
           "baxis": {
            "gridcolor": "white",
            "linecolor": "white",
            "ticks": ""
           },
           "bgcolor": "#E5ECF6",
           "caxis": {
            "gridcolor": "white",
            "linecolor": "white",
            "ticks": ""
           }
          },
          "title": {
           "x": 0.05
          },
          "xaxis": {
           "automargin": true,
           "gridcolor": "white",
           "linecolor": "white",
           "ticks": "",
           "title": {
            "standoff": 15
           },
           "zerolinecolor": "white",
           "zerolinewidth": 2
          },
          "yaxis": {
           "automargin": true,
           "gridcolor": "white",
           "linecolor": "white",
           "ticks": "",
           "title": {
            "standoff": 15
           },
           "zerolinecolor": "white",
           "zerolinewidth": 2
          }
         }
        },
        "title": {
         "text": "Resultado dos modelos (quanto maior melhor)"
        },
        "xaxis": {
         "anchor": "y",
         "domain": [
          0,
          1
         ],
         "title": {
          "text": "score"
         }
        },
        "yaxis": {
         "anchor": "x",
         "categoryarray": [
          "Naive Bayes - label encoding"
         ],
         "categoryorder": "array",
         "domain": [
          0,
          1
         ],
         "title": {
          "text": "desc"
         }
        }
       }
      }
     },
     "metadata": {},
     "output_type": "display_data"
    }
   ],
   "source": [
    "from sklearn.naive_bayes import GaussianNB\n",
    "\n",
    "naive_censu = GaussianNB()\n",
    "naive_censu.fit(x_censu_treino, y_censu_treino)\n",
    "previsoes = naive_censu.predict(x_censu_teste)\n",
    "\n",
    "control_scores('Naive Bayes - label encoding', accuracy_score(y_censu_teste, previsoes))"
   ]
  },
  {
   "cell_type": "markdown",
   "metadata": {},
   "source": [
    "Matriz de confusão"
   ]
  },
  {
   "cell_type": "code",
   "execution_count": 63,
   "metadata": {},
   "outputs": [
    {
     "data": {
      "text/plain": [
       "0.7892150841419973"
      ]
     },
     "execution_count": 63,
     "metadata": {},
     "output_type": "execute_result"
    },
    {
     "data": {
      "image/png": "[encoded data removed]",
      "text/plain": [
       "<Figure size 576x396 with 1 Axes>"
      ]
     },
     "metadata": {},
     "output_type": "display_data"
    }
   ],
   "source": [
    "from yellowbrick.classifier import ConfusionMatrix\n",
    "cm = ConfusionMatrix(naive_censu)\n",
    "cm.fit(x_censu_treino, y_censu_treino)\n",
    "cm.score(x_censu_teste, y_censu_teste)\n",
    "\n",
    "#del(cm)"
   ]
  },
  {
   "cell_type": "markdown",
   "metadata": {},
   "source": [
    "### 4.2 - Utilização de variáveis dummies"
   ]
  },
  {
   "cell_type": "markdown",
   "metadata": {},
   "source": [
    "Outra forma de trabalhar com dados categóricos é a utilização de variáveis dummies, onde ao invés de um campo numérico com o identificador de cada categoria são criadas colunas com valores binários (0 e 1) para cada categoria de cada variável."
   ]
  },
  {
   "cell_type": "code",
   "execution_count": 64,
   "metadata": {},
   "outputs": [],
   "source": [
    "import pickle\n",
    "with open('censu.pkl', 'rb') as f:\n",
    "  x_censu, y_censu, x_censu_treino, y_censu_treino, x_censu_teste, y_censu_teste = pickle.load(f)\n",
    "\n",
    "del(f)"
   ]
  },
  {
   "cell_type": "markdown",
   "metadata": {},
   "source": [
    "Ao invés de partirmos para a utilizarmos as variáveis categóricas convertidas em valores numéricos (variáveis com sufixo _encoded) vamos primeiro verificar quais caregorias possuem mais valores únicos. Para isso utilizaremos inicialmente a base **x_censu** com as variáveis preditoras sem a quebra de teste e treino\n",
    "\n",
    "As variáveis `education`, `occupation` e `native-country` são as que possuem maiores categorias e podem ser transformadas de forma diferente."
   ]
  },
  {
   "cell_type": "code",
   "execution_count": 65,
   "metadata": {},
   "outputs": [
    {
     "data": {
      "text/html": [
       "<div>\n",
       "<style scoped>\n",
       "    .dataframe tbody tr th:only-of-type {\n",
       "        vertical-align: middle;\n",
       "    }\n",
       "\n",
       "    .dataframe tbody tr th {\n",
       "        vertical-align: top;\n",
       "    }\n",
       "\n",
       "    .dataframe thead th {\n",
       "        text-align: right;\n",
       "    }\n",
       "</style>\n",
       "<table border=\"1\" class=\"dataframe\">\n",
       "  <thead>\n",
       "    <tr style=\"text-align: right;\">\n",
       "      <th></th>\n",
       "      <th>workclass</th>\n",
       "      <th>education</th>\n",
       "      <th>marital-status</th>\n",
       "      <th>occupation</th>\n",
       "      <th>relationship</th>\n",
       "      <th>race</th>\n",
       "      <th>sex</th>\n",
       "      <th>native-country</th>\n",
       "    </tr>\n",
       "  </thead>\n",
       "  <tbody>\n",
       "    <tr>\n",
       "      <th>count</th>\n",
       "      <td>32561</td>\n",
       "      <td>32561</td>\n",
       "      <td>32561</td>\n",
       "      <td>32561</td>\n",
       "      <td>32561</td>\n",
       "      <td>32561</td>\n",
       "      <td>32561</td>\n",
       "      <td>32561</td>\n",
       "    </tr>\n",
       "    <tr>\n",
       "      <th>unique</th>\n",
       "      <td>9</td>\n",
       "      <td>16</td>\n",
       "      <td>7</td>\n",
       "      <td>15</td>\n",
       "      <td>6</td>\n",
       "      <td>5</td>\n",
       "      <td>2</td>\n",
       "      <td>42</td>\n",
       "    </tr>\n",
       "    <tr>\n",
       "      <th>top</th>\n",
       "      <td>Private</td>\n",
       "      <td>HS-grad</td>\n",
       "      <td>Married-civ-spouse</td>\n",
       "      <td>Prof-specialty</td>\n",
       "      <td>Husband</td>\n",
       "      <td>White</td>\n",
       "      <td>Male</td>\n",
       "      <td>United-States</td>\n",
       "    </tr>\n",
       "    <tr>\n",
       "      <th>freq</th>\n",
       "      <td>22696</td>\n",
       "      <td>10501</td>\n",
       "      <td>14976</td>\n",
       "      <td>4140</td>\n",
       "      <td>13193</td>\n",
       "      <td>27816</td>\n",
       "      <td>21790</td>\n",
       "      <td>29170</td>\n",
       "    </tr>\n",
       "  </tbody>\n",
       "</table>\n",
       "</div>"
      ],
      "text/plain": [
       "       workclass education      marital-status      occupation relationship  \\\n",
       "count      32561     32561               32561           32561        32561   \n",
       "unique         9        16                   7              15            6   \n",
       "top      Private   HS-grad  Married-civ-spouse  Prof-specialty      Husband   \n",
       "freq       22696     10501               14976            4140        13193   \n",
       "\n",
       "         race    sex native-country  \n",
       "count   32561  32561          32561  \n",
       "unique      5      2             42  \n",
       "top     White   Male  United-States  \n",
       "freq    27816  21790          29170  "
      ]
     },
     "execution_count": 65,
     "metadata": {},
     "output_type": "execute_result"
    }
   ],
   "source": [
    "x_censu.select_dtypes(include = 'object').describe()\n"
   ]
  },
  {
   "cell_type": "markdown",
   "metadata": {},
   "source": [
    "Criaremos uma nova base com as variáveis "
   ]
  },
  {
   "cell_type": "code",
   "execution_count": 66,
   "metadata": {},
   "outputs": [],
   "source": [
    "x_censu_dummy = pd.get_dummies(\n",
    "    x_censu, \n",
    "    #qual será o prefixo das colunas, manteremos o nome original\n",
    "    prefix=['workclass', 'occupation', 'native-country'],\n",
    "    #quais colunas serão avaliadas\n",
    "    columns = ['workclass', 'occupation', 'native-country'],  \n",
    "    #indicamos que desejamos que primeiro valor seja removido, uma vez que estamos trabalhando com variáveis binárias\n",
    "    #podemos remover um dos valores categóricos para reduzir a quantidade de colunas, a presença dele pode ser detectada\n",
    "    #ao verificar se as colunas remanecentes possuem valor 0\n",
    "    drop_first = False)"
   ]
  },
  {
   "cell_type": "markdown",
   "metadata": {},
   "source": [
    "Com a nova base criada (x_censu_dummy) é feita a remoção das colunas categóricas e das colunas convertidas (com sulfixo _encoded) que foram tranformadas em variáveis dummies"
   ]
  },
  {
   "cell_type": "code",
   "execution_count": 67,
   "metadata": {},
   "outputs": [],
   "source": [
    "x_censu_dummy = x_censu_dummy[x_censu_dummy.columns[~x_censu_dummy.columns.isin([\n",
    "    'workclass', 'education', 'marital-status', 'occupation', 'relationship', 'race', 'sex', 'native-country', \n",
    "    'workclass_encoded', 'occupation_encoded', 'native-country_encoded'\n",
    "])]]\n",
    "\n",
    "from sklearn.model_selection import train_test_split\n",
    "\n",
    "x_censu_treino, x_censu_teste, y_censu_treino, y_censu_teste = train_test_split(x_censu_dummy, y_censu, test_size = 0.25, random_state = 0)"
   ]
  },
  {
   "cell_type": "markdown",
   "metadata": {},
   "source": [
    "O método Naive Bayes tende a apresentar melhores resultados quando os dados são estão padronizados, ou seja, que seus valores sejam todos colocados em uma escala, ja que temos valores com amplitude diferentes em cada coluna"
   ]
  },
  {
   "cell_type": "code",
   "execution_count": 68,
   "metadata": {},
   "outputs": [],
   "source": [
    "#método z-score para padronizar as variveis explicativas\n",
    "from sklearn.preprocessing import StandardScaler\n",
    "scaler = StandardScaler()\n",
    "\n",
    "#a padronização dos dados é feita apenas com as colunas numéricas\n",
    "x_censu_treino = scaler.fit_transform(x_censu_treino)\n",
    "\n",
    "del(scaler)"
   ]
  },
  {
   "cell_type": "markdown",
   "metadata": {},
   "source": [
    "**Criação e execução do modelo**"
   ]
  },
  {
   "cell_type": "code",
   "execution_count": 69,
   "metadata": {},
   "outputs": [
    {
     "data": {
      "application/vnd.plotly.v1+json": {
       "config": {
        "plotlyServerURL": "https://plot.ly"
       },
       "data": [
        {
         "alignmentgroup": "True",
         "hovertemplate": "desc=%{y}<br>score=%{x}<extra></extra>",
         "legendgroup": "Naive Bayes - label encoding",
         "marker": {
          "color": "#636efa",
          "pattern": {
           "shape": ""
          }
         },
         "name": "Naive Bayes - label encoding",
         "offsetgroup": "Naive Bayes - label encoding",
         "orientation": "h",
         "showlegend": true,
         "textposition": "auto",
         "type": "bar",
         "x": [
          0.7892150841419973
         ],
         "xaxis": "x",
         "y": [
          "Naive Bayes - label encoding"
         ],
         "yaxis": "y"
        },
        {
         "alignmentgroup": "True",
         "hovertemplate": "desc=%{y}<br>score=%{x}<extra></extra>",
         "legendgroup": "Naive Bayes - variaveis dummies",
         "marker": {
          "color": "#EF553B",
          "pattern": {
           "shape": ""
          }
         },
         "name": "Naive Bayes - variaveis dummies",
         "offsetgroup": "Naive Bayes - variaveis dummies",
         "orientation": "h",
         "showlegend": true,
         "textposition": "auto",
         "type": "bar",
         "x": [
          0.7892150841419973
         ],
         "xaxis": "x",
         "y": [
          "Naive Bayes - variaveis dummies"
         ],
         "yaxis": "y"
        }
       ],
       "layout": {
        "barmode": "relative",
        "legend": {
         "title": {
          "text": "desc"
         },
         "tracegroupgap": 0
        },
        "template": {
         "data": {
          "bar": [
           {
            "error_x": {
             "color": "#2a3f5f"
            },
            "error_y": {
             "color": "#2a3f5f"
            },
            "marker": {
             "line": {
              "color": "#E5ECF6",
              "width": 0.5
             },
             "pattern": {
              "fillmode": "overlay",
              "size": 10,
              "solidity": 0.2
             }
            },
            "type": "bar"
           }
          ],
          "barpolar": [
           {
            "marker": {
             "line": {
              "color": "#E5ECF6",
              "width": 0.5
             },
             "pattern": {
              "fillmode": "overlay",
              "size": 10,
              "solidity": 0.2
             }
            },
            "type": "barpolar"
           }
          ],
          "carpet": [
           {
            "aaxis": {
             "endlinecolor": "#2a3f5f",
             "gridcolor": "white",
             "linecolor": "white",
             "minorgridcolor": "white",
             "startlinecolor": "#2a3f5f"
            },
            "baxis": {
             "endlinecolor": "#2a3f5f",
             "gridcolor": "white",
             "linecolor": "white",
             "minorgridcolor": "white",
             "startlinecolor": "#2a3f5f"
            },
            "type": "carpet"
           }
          ],
          "choropleth": [
           {
            "colorbar": {
             "outlinewidth": 0,
             "ticks": ""
            },
            "type": "choropleth"
           }
          ],
          "contour": [
           {
            "colorbar": {
             "outlinewidth": 0,
             "ticks": ""
            },
            "colorscale": [
             [
              0,
              "#0d0887"
             ],
             [
              0.1111111111111111,
              "#46039f"
             ],
             [
              0.2222222222222222,
              "#7201a8"
             ],
             [
              0.3333333333333333,
              "#9c179e"
             ],
             [
              0.4444444444444444,
              "#bd3786"
             ],
             [
              0.5555555555555556,
              "#d8576b"
             ],
             [
              0.6666666666666666,
              "#ed7953"
             ],
             [
              0.7777777777777778,
              "#fb9f3a"
             ],
             [
              0.8888888888888888,
              "#fdca26"
             ],
             [
              1,
              "#f0f921"
             ]
            ],
            "type": "contour"
           }
          ],
          "contourcarpet": [
           {
            "colorbar": {
             "outlinewidth": 0,
             "ticks": ""
            },
            "type": "contourcarpet"
           }
          ],
          "heatmap": [
           {
            "colorbar": {
             "outlinewidth": 0,
             "ticks": ""
            },
            "colorscale": [
             [
              0,
              "#0d0887"
             ],
             [
              0.1111111111111111,
              "#46039f"
             ],
             [
              0.2222222222222222,
              "#7201a8"
             ],
             [
              0.3333333333333333,
              "#9c179e"
             ],
             [
              0.4444444444444444,
              "#bd3786"
             ],
             [
              0.5555555555555556,
              "#d8576b"
             ],
             [
              0.6666666666666666,
              "#ed7953"
             ],
             [
              0.7777777777777778,
              "#fb9f3a"
             ],
             [
              0.8888888888888888,
              "#fdca26"
             ],
             [
              1,
              "#f0f921"
             ]
            ],
            "type": "heatmap"
           }
          ],
          "heatmapgl": [
           {
            "colorbar": {
             "outlinewidth": 0,
             "ticks": ""
            },
            "colorscale": [
             [
              0,
              "#0d0887"
             ],
             [
              0.1111111111111111,
              "#46039f"
             ],
             [
              0.2222222222222222,
              "#7201a8"
             ],
             [
              0.3333333333333333,
              "#9c179e"
             ],
             [
              0.4444444444444444,
              "#bd3786"
             ],
             [
              0.5555555555555556,
              "#d8576b"
             ],
             [
              0.6666666666666666,
              "#ed7953"
             ],
             [
              0.7777777777777778,
              "#fb9f3a"
             ],
             [
              0.8888888888888888,
              "#fdca26"
             ],
             [
              1,
              "#f0f921"
             ]
            ],
            "type": "heatmapgl"
           }
          ],
          "histogram": [
           {
            "marker": {
             "pattern": {
              "fillmode": "overlay",
              "size": 10,
              "solidity": 0.2
             }
            },
            "type": "histogram"
           }
          ],
          "histogram2d": [
           {
            "colorbar": {
             "outlinewidth": 0,
             "ticks": ""
            },
            "colorscale": [
             [
              0,
              "#0d0887"
             ],
             [
              0.1111111111111111,
              "#46039f"
             ],
             [
              0.2222222222222222,
              "#7201a8"
             ],
             [
              0.3333333333333333,
              "#9c179e"
             ],
             [
              0.4444444444444444,
              "#bd3786"
             ],
             [
              0.5555555555555556,
              "#d8576b"
             ],
             [
              0.6666666666666666,
              "#ed7953"
             ],
             [
              0.7777777777777778,
              "#fb9f3a"
             ],
             [
              0.8888888888888888,
              "#fdca26"
             ],
             [
              1,
              "#f0f921"
             ]
            ],
            "type": "histogram2d"
           }
          ],
          "histogram2dcontour": [
           {
            "colorbar": {
             "outlinewidth": 0,
             "ticks": ""
            },
            "colorscale": [
             [
              0,
              "#0d0887"
             ],
             [
              0.1111111111111111,
              "#46039f"
             ],
             [
              0.2222222222222222,
              "#7201a8"
             ],
             [
              0.3333333333333333,
              "#9c179e"
             ],
             [
              0.4444444444444444,
              "#bd3786"
             ],
             [
              0.5555555555555556,
              "#d8576b"
             ],
             [
              0.6666666666666666,
              "#ed7953"
             ],
             [
              0.7777777777777778,
              "#fb9f3a"
             ],
             [
              0.8888888888888888,
              "#fdca26"
             ],
             [
              1,
              "#f0f921"
             ]
            ],
            "type": "histogram2dcontour"
           }
          ],
          "mesh3d": [
           {
            "colorbar": {
             "outlinewidth": 0,
             "ticks": ""
            },
            "type": "mesh3d"
           }
          ],
          "parcoords": [
           {
            "line": {
             "colorbar": {
              "outlinewidth": 0,
              "ticks": ""
             }
            },
            "type": "parcoords"
           }
          ],
          "pie": [
           {
            "automargin": true,
            "type": "pie"
           }
          ],
          "scatter": [
           {
            "fillpattern": {
             "fillmode": "overlay",
             "size": 10,
             "solidity": 0.2
            },
            "type": "scatter"
           }
          ],
          "scatter3d": [
           {
            "line": {
             "colorbar": {
              "outlinewidth": 0,
              "ticks": ""
             }
            },
            "marker": {
             "colorbar": {
              "outlinewidth": 0,
              "ticks": ""
             }
            },
            "type": "scatter3d"
           }
          ],
          "scattercarpet": [
           {
            "marker": {
             "colorbar": {
              "outlinewidth": 0,
              "ticks": ""
             }
            },
            "type": "scattercarpet"
           }
          ],
          "scattergeo": [
           {
            "marker": {
             "colorbar": {
              "outlinewidth": 0,
              "ticks": ""
             }
            },
            "type": "scattergeo"
           }
          ],
          "scattergl": [
           {
            "marker": {
             "colorbar": {
              "outlinewidth": 0,
              "ticks": ""
             }
            },
            "type": "scattergl"
           }
          ],
          "scattermapbox": [
           {
            "marker": {
             "colorbar": {
              "outlinewidth": 0,
              "ticks": ""
             }
            },
            "type": "scattermapbox"
           }
          ],
          "scatterpolar": [
           {
            "marker": {
             "colorbar": {
              "outlinewidth": 0,
              "ticks": ""
             }
            },
            "type": "scatterpolar"
           }
          ],
          "scatterpolargl": [
           {
            "marker": {
             "colorbar": {
              "outlinewidth": 0,
              "ticks": ""
             }
            },
            "type": "scatterpolargl"
           }
          ],
          "scatterternary": [
           {
            "marker": {
             "colorbar": {
              "outlinewidth": 0,
              "ticks": ""
             }
            },
            "type": "scatterternary"
           }
          ],
          "surface": [
           {
            "colorbar": {
             "outlinewidth": 0,
             "ticks": ""
            },
            "colorscale": [
             [
              0,
              "#0d0887"
             ],
             [
              0.1111111111111111,
              "#46039f"
             ],
             [
              0.2222222222222222,
              "#7201a8"
             ],
             [
              0.3333333333333333,
              "#9c179e"
             ],
             [
              0.4444444444444444,
              "#bd3786"
             ],
             [
              0.5555555555555556,
              "#d8576b"
             ],
             [
              0.6666666666666666,
              "#ed7953"
             ],
             [
              0.7777777777777778,
              "#fb9f3a"
             ],
             [
              0.8888888888888888,
              "#fdca26"
             ],
             [
              1,
              "#f0f921"
             ]
            ],
            "type": "surface"
           }
          ],
          "table": [
           {
            "cells": {
             "fill": {
              "color": "#EBF0F8"
             },
             "line": {
              "color": "white"
             }
            },
            "header": {
             "fill": {
              "color": "#C8D4E3"
             },
             "line": {
              "color": "white"
             }
            },
            "type": "table"
           }
          ]
         },
         "layout": {
          "annotationdefaults": {
           "arrowcolor": "#2a3f5f",
           "arrowhead": 0,
           "arrowwidth": 1
          },
          "autotypenumbers": "strict",
          "coloraxis": {
           "colorbar": {
            "outlinewidth": 0,
            "ticks": ""
           }
          },
          "colorscale": {
           "diverging": [
            [
             0,
             "#8e0152"
            ],
            [
             0.1,
             "#c51b7d"
            ],
            [
             0.2,
             "#de77ae"
            ],
            [
             0.3,
             "#f1b6da"
            ],
            [
             0.4,
             "#fde0ef"
            ],
            [
             0.5,
             "#f7f7f7"
            ],
            [
             0.6,
             "#e6f5d0"
            ],
            [
             0.7,
             "#b8e186"
            ],
            [
             0.8,
             "#7fbc41"
            ],
            [
             0.9,
             "#4d9221"
            ],
            [
             1,
             "#276419"
            ]
           ],
           "sequential": [
            [
             0,
             "#0d0887"
            ],
            [
             0.1111111111111111,
             "#46039f"
            ],
            [
             0.2222222222222222,
             "#7201a8"
            ],
            [
             0.3333333333333333,
             "#9c179e"
            ],
            [
             0.4444444444444444,
             "#bd3786"
            ],
            [
             0.5555555555555556,
             "#d8576b"
            ],
            [
             0.6666666666666666,
             "#ed7953"
            ],
            [
             0.7777777777777778,
             "#fb9f3a"
            ],
            [
             0.8888888888888888,
             "#fdca26"
            ],
            [
             1,
             "#f0f921"
            ]
           ],
           "sequentialminus": [
            [
             0,
             "#0d0887"
            ],
            [
             0.1111111111111111,
             "#46039f"
            ],
            [
             0.2222222222222222,
             "#7201a8"
            ],
            [
             0.3333333333333333,
             "#9c179e"
            ],
            [
             0.4444444444444444,
             "#bd3786"
            ],
            [
             0.5555555555555556,
             "#d8576b"
            ],
            [
             0.6666666666666666,
             "#ed7953"
            ],
            [
             0.7777777777777778,
             "#fb9f3a"
            ],
            [
             0.8888888888888888,
             "#fdca26"
            ],
            [
             1,
             "#f0f921"
            ]
           ]
          },
          "colorway": [
           "#636efa",
           "#EF553B",
           "#00cc96",
           "#ab63fa",
           "#FFA15A",
           "#19d3f3",
           "#FF6692",
           "#B6E880",
           "#FF97FF",
           "#FECB52"
          ],
          "font": {
           "color": "#2a3f5f"
          },
          "geo": {
           "bgcolor": "white",
           "lakecolor": "white",
           "landcolor": "#E5ECF6",
           "showlakes": true,
           "showland": true,
           "subunitcolor": "white"
          },
          "hoverlabel": {
           "align": "left"
          },
          "hovermode": "closest",
          "mapbox": {
           "style": "light"
          },
          "paper_bgcolor": "white",
          "plot_bgcolor": "#E5ECF6",
          "polar": {
           "angularaxis": {
            "gridcolor": "white",
            "linecolor": "white",
            "ticks": ""
           },
           "bgcolor": "#E5ECF6",
           "radialaxis": {
            "gridcolor": "white",
            "linecolor": "white",
            "ticks": ""
           }
          },
          "scene": {
           "xaxis": {
            "backgroundcolor": "#E5ECF6",
            "gridcolor": "white",
            "gridwidth": 2,
            "linecolor": "white",
            "showbackground": true,
            "ticks": "",
            "zerolinecolor": "white"
           },
           "yaxis": {
            "backgroundcolor": "#E5ECF6",
            "gridcolor": "white",
            "gridwidth": 2,
            "linecolor": "white",
            "showbackground": true,
            "ticks": "",
            "zerolinecolor": "white"
           },
           "zaxis": {
            "backgroundcolor": "#E5ECF6",
            "gridcolor": "white",
            "gridwidth": 2,
            "linecolor": "white",
            "showbackground": true,
            "ticks": "",
            "zerolinecolor": "white"
           }
          },
          "shapedefaults": {
           "line": {
            "color": "#2a3f5f"
           }
          },
          "ternary": {
           "aaxis": {
            "gridcolor": "white",
            "linecolor": "white",
            "ticks": ""
           },
           "baxis": {
            "gridcolor": "white",
            "linecolor": "white",
            "ticks": ""
           },
           "bgcolor": "#E5ECF6",
           "caxis": {
            "gridcolor": "white",
            "linecolor": "white",
            "ticks": ""
           }
          },
          "title": {
           "x": 0.05
          },
          "xaxis": {
           "automargin": true,
           "gridcolor": "white",
           "linecolor": "white",
           "ticks": "",
           "title": {
            "standoff": 15
           },
           "zerolinecolor": "white",
           "zerolinewidth": 2
          },
          "yaxis": {
           "automargin": true,
           "gridcolor": "white",
           "linecolor": "white",
           "ticks": "",
           "title": {
            "standoff": 15
           },
           "zerolinecolor": "white",
           "zerolinewidth": 2
          }
         }
        },
        "title": {
         "text": "Resultado dos modelos (quanto maior melhor)"
        },
        "xaxis": {
         "anchor": "y",
         "domain": [
          0,
          1
         ],
         "title": {
          "text": "score"
         }
        },
        "yaxis": {
         "anchor": "x",
         "categoryarray": [
          "Naive Bayes - variaveis dummies",
          "Naive Bayes - label encoding"
         ],
         "categoryorder": "array",
         "domain": [
          0,
          1
         ],
         "title": {
          "text": "desc"
         }
        }
       }
      }
     },
     "metadata": {},
     "output_type": "display_data"
    }
   ],
   "source": [
    "from sklearn.naive_bayes import GaussianNB\n",
    "\n",
    "naive_censu_dummy = GaussianNB()\n",
    "naive_censu_dummy.fit(x_censu_treino, y_censu_treino)\n",
    "previsoes = naive_censu_dummy.predict(x_censu_teste)\n",
    "\n",
    "control_scores('Naive Bayes - variaveis dummies', accuracy_score(y_censu_teste, previsoes))\n"
   ]
  },
  {
   "cell_type": "markdown",
   "metadata": {},
   "source": [
    "**Matriz de confusão**\n",
    "\n",
    "Podemos observar que não houve mudança na acuracidade do modelo"
   ]
  },
  {
   "cell_type": "code",
   "execution_count": 70,
   "metadata": {},
   "outputs": [
    {
     "data": {
      "text/plain": [
       "0.7892150841419973"
      ]
     },
     "execution_count": 70,
     "metadata": {},
     "output_type": "execute_result"
    },
    {
     "data": {
      "image/png": "[encoded data removed]",
      "text/plain": [
       "<Figure size 576x396 with 1 Axes>"
      ]
     },
     "metadata": {},
     "output_type": "display_data"
    }
   ],
   "source": [
    "from yellowbrick.classifier import ConfusionMatrix\n",
    "cm_dummy = ConfusionMatrix(naive_censu_dummy)\n",
    "cm_dummy.fit(x_censu_treino, y_censu_treino)\n",
    "cm_dummy.score(x_censu_teste, y_censu_teste)\n"
   ]
  },
  {
   "cell_type": "markdown",
   "metadata": {},
   "source": [
    "## 5 - Árvore de decisão"
   ]
  },
  {
   "cell_type": "markdown",
   "metadata": {},
   "source": [
    "O que são..."
   ]
  },
  {
   "cell_type": "markdown",
   "metadata": {},
   "source": [
    "A primeira coisa a ser feita é a importação das variáveis de teste e treino"
   ]
  },
  {
   "cell_type": "code",
   "execution_count": 71,
   "metadata": {},
   "outputs": [],
   "source": [
    "import pickle\n",
    "with open('censu.pkl', 'rb') as f:\n",
    "  x_censu, y_censu, x_censu_treino, y_censu_treino, x_censu_teste, y_censu_teste = pickle.load(f)\n",
    "\n",
    "del(f)"
   ]
  },
  {
   "cell_type": "markdown",
   "metadata": {},
   "source": [
    "Como os dados foram tratados e preparados anteriormente podemos partir direto para a criação do modelo"
   ]
  },
  {
   "cell_type": "code",
   "execution_count": 72,
   "metadata": {},
   "outputs": [],
   "source": [
    "names = ['age', 'fnlwgt', 'capital-gain', 'capital-loss', 'hours-per-week', 'workclass', 'education', 'marital-status', 'occupation', 'relationship', 'race', 'sex', 'native-country']\n",
    "x_censu = x_censu[names]\n",
    "\n",
    "del(names)\n",
    "\n",
    "x_censu_treino, x_censu_teste, y_censu_treino, y_censu_teste = train_test_split(x_censu_dummy, y_censu, test_size = 0.25, random_state = 0)"
   ]
  },
  {
   "cell_type": "markdown",
   "metadata": {},
   "source": [
    "Criação e execução do modelo"
   ]
  },
  {
   "cell_type": "code",
   "execution_count": 73,
   "metadata": {},
   "outputs": [
    {
     "data": {
      "application/vnd.plotly.v1+json": {
       "config": {
        "plotlyServerURL": "https://plot.ly"
       },
       "data": [
        {
         "alignmentgroup": "True",
         "hovertemplate": "desc=%{y}<br>score=%{x}<extra></extra>",
         "legendgroup": "Naive Bayes - label encoding",
         "marker": {
          "color": "#636efa",
          "pattern": {
           "shape": ""
          }
         },
         "name": "Naive Bayes - label encoding",
         "offsetgroup": "Naive Bayes - label encoding",
         "orientation": "h",
         "showlegend": true,
         "textposition": "auto",
         "type": "bar",
         "x": [
          0.7892150841419973
         ],
         "xaxis": "x",
         "y": [
          "Naive Bayes - label encoding"
         ],
         "yaxis": "y"
        },
        {
         "alignmentgroup": "True",
         "hovertemplate": "desc=%{y}<br>score=%{x}<extra></extra>",
         "legendgroup": "Naive Bayes - variaveis dummies",
         "marker": {
          "color": "#EF553B",
          "pattern": {
           "shape": ""
          }
         },
         "name": "Naive Bayes - variaveis dummies",
         "offsetgroup": "Naive Bayes - variaveis dummies",
         "orientation": "h",
         "showlegend": true,
         "textposition": "auto",
         "type": "bar",
         "x": [
          0.7892150841419973
         ],
         "xaxis": "x",
         "y": [
          "Naive Bayes - variaveis dummies"
         ],
         "yaxis": "y"
        },
        {
         "alignmentgroup": "True",
         "hovertemplate": "desc=%{y}<br>score=%{x}<extra></extra>",
         "legendgroup": "Árvore de decisão",
         "marker": {
          "color": "#00cc96",
          "pattern": {
           "shape": ""
          }
         },
         "name": "Árvore de decisão",
         "offsetgroup": "Árvore de decisão",
         "orientation": "h",
         "showlegend": true,
         "textposition": "auto",
         "type": "bar",
         "x": [
          0.815501781107972
         ],
         "xaxis": "x",
         "y": [
          "Árvore de decisão"
         ],
         "yaxis": "y"
        }
       ],
       "layout": {
        "barmode": "relative",
        "legend": {
         "title": {
          "text": "desc"
         },
         "tracegroupgap": 0
        },
        "template": {
         "data": {
          "bar": [
           {
            "error_x": {
             "color": "#2a3f5f"
            },
            "error_y": {
             "color": "#2a3f5f"
            },
            "marker": {
             "line": {
              "color": "#E5ECF6",
              "width": 0.5
             },
             "pattern": {
              "fillmode": "overlay",
              "size": 10,
              "solidity": 0.2
             }
            },
            "type": "bar"
           }
          ],
          "barpolar": [
           {
            "marker": {
             "line": {
              "color": "#E5ECF6",
              "width": 0.5
             },
             "pattern": {
              "fillmode": "overlay",
              "size": 10,
              "solidity": 0.2
             }
            },
            "type": "barpolar"
           }
          ],
          "carpet": [
           {
            "aaxis": {
             "endlinecolor": "#2a3f5f",
             "gridcolor": "white",
             "linecolor": "white",
             "minorgridcolor": "white",
             "startlinecolor": "#2a3f5f"
            },
            "baxis": {
             "endlinecolor": "#2a3f5f",
             "gridcolor": "white",
             "linecolor": "white",
             "minorgridcolor": "white",
             "startlinecolor": "#2a3f5f"
            },
            "type": "carpet"
           }
          ],
          "choropleth": [
           {
            "colorbar": {
             "outlinewidth": 0,
             "ticks": ""
            },
            "type": "choropleth"
           }
          ],
          "contour": [
           {
            "colorbar": {
             "outlinewidth": 0,
             "ticks": ""
            },
            "colorscale": [
             [
              0,
              "#0d0887"
             ],
             [
              0.1111111111111111,
              "#46039f"
             ],
             [
              0.2222222222222222,
              "#7201a8"
             ],
             [
              0.3333333333333333,
              "#9c179e"
             ],
             [
              0.4444444444444444,
              "#bd3786"
             ],
             [
              0.5555555555555556,
              "#d8576b"
             ],
             [
              0.6666666666666666,
              "#ed7953"
             ],
             [
              0.7777777777777778,
              "#fb9f3a"
             ],
             [
              0.8888888888888888,
              "#fdca26"
             ],
             [
              1,
              "#f0f921"
             ]
            ],
            "type": "contour"
           }
          ],
          "contourcarpet": [
           {
            "colorbar": {
             "outlinewidth": 0,
             "ticks": ""
            },
            "type": "contourcarpet"
           }
          ],
          "heatmap": [
           {
            "colorbar": {
             "outlinewidth": 0,
             "ticks": ""
            },
            "colorscale": [
             [
              0,
              "#0d0887"
             ],
             [
              0.1111111111111111,
              "#46039f"
             ],
             [
              0.2222222222222222,
              "#7201a8"
             ],
             [
              0.3333333333333333,
              "#9c179e"
             ],
             [
              0.4444444444444444,
              "#bd3786"
             ],
             [
              0.5555555555555556,
              "#d8576b"
             ],
             [
              0.6666666666666666,
              "#ed7953"
             ],
             [
              0.7777777777777778,
              "#fb9f3a"
             ],
             [
              0.8888888888888888,
              "#fdca26"
             ],
             [
              1,
              "#f0f921"
             ]
            ],
            "type": "heatmap"
           }
          ],
          "heatmapgl": [
           {
            "colorbar": {
             "outlinewidth": 0,
             "ticks": ""
            },
            "colorscale": [
             [
              0,
              "#0d0887"
             ],
             [
              0.1111111111111111,
              "#46039f"
             ],
             [
              0.2222222222222222,
              "#7201a8"
             ],
             [
              0.3333333333333333,
              "#9c179e"
             ],
             [
              0.4444444444444444,
              "#bd3786"
             ],
             [
              0.5555555555555556,
              "#d8576b"
             ],
             [
              0.6666666666666666,
              "#ed7953"
             ],
             [
              0.7777777777777778,
              "#fb9f3a"
             ],
             [
              0.8888888888888888,
              "#fdca26"
             ],
             [
              1,
              "#f0f921"
             ]
            ],
            "type": "heatmapgl"
           }
          ],
          "histogram": [
           {
            "marker": {
             "pattern": {
              "fillmode": "overlay",
              "size": 10,
              "solidity": 0.2
             }
            },
            "type": "histogram"
           }
          ],
          "histogram2d": [
           {
            "colorbar": {
             "outlinewidth": 0,
             "ticks": ""
            },
            "colorscale": [
             [
              0,
              "#0d0887"
             ],
             [
              0.1111111111111111,
              "#46039f"
             ],
             [
              0.2222222222222222,
              "#7201a8"
             ],
             [
              0.3333333333333333,
              "#9c179e"
             ],
             [
              0.4444444444444444,
              "#bd3786"
             ],
             [
              0.5555555555555556,
              "#d8576b"
             ],
             [
              0.6666666666666666,
              "#ed7953"
             ],
             [
              0.7777777777777778,
              "#fb9f3a"
             ],
             [
              0.8888888888888888,
              "#fdca26"
             ],
             [
              1,
              "#f0f921"
             ]
            ],
            "type": "histogram2d"
           }
          ],
          "histogram2dcontour": [
           {
            "colorbar": {
             "outlinewidth": 0,
             "ticks": ""
            },
            "colorscale": [
             [
              0,
              "#0d0887"
             ],
             [
              0.1111111111111111,
              "#46039f"
             ],
             [
              0.2222222222222222,
              "#7201a8"
             ],
             [
              0.3333333333333333,
              "#9c179e"
             ],
             [
              0.4444444444444444,
              "#bd3786"
             ],
             [
              0.5555555555555556,
              "#d8576b"
             ],
             [
              0.6666666666666666,
              "#ed7953"
             ],
             [
              0.7777777777777778,
              "#fb9f3a"
             ],
             [
              0.8888888888888888,
              "#fdca26"
             ],
             [
              1,
              "#f0f921"
             ]
            ],
            "type": "histogram2dcontour"
           }
          ],
          "mesh3d": [
           {
            "colorbar": {
             "outlinewidth": 0,
             "ticks": ""
            },
            "type": "mesh3d"
           }
          ],
          "parcoords": [
           {
            "line": {
             "colorbar": {
              "outlinewidth": 0,
              "ticks": ""
             }
            },
            "type": "parcoords"
           }
          ],
          "pie": [
           {
            "automargin": true,
            "type": "pie"
           }
          ],
          "scatter": [
           {
            "fillpattern": {
             "fillmode": "overlay",
             "size": 10,
             "solidity": 0.2
            },
            "type": "scatter"
           }
          ],
          "scatter3d": [
           {
            "line": {
             "colorbar": {
              "outlinewidth": 0,
              "ticks": ""
             }
            },
            "marker": {
             "colorbar": {
              "outlinewidth": 0,
              "ticks": ""
             }
            },
            "type": "scatter3d"
           }
          ],
          "scattercarpet": [
           {
            "marker": {
             "colorbar": {
              "outlinewidth": 0,
              "ticks": ""
             }
            },
            "type": "scattercarpet"
           }
          ],
          "scattergeo": [
           {
            "marker": {
             "colorbar": {
              "outlinewidth": 0,
              "ticks": ""
             }
            },
            "type": "scattergeo"
           }
          ],
          "scattergl": [
           {
            "marker": {
             "colorbar": {
              "outlinewidth": 0,
              "ticks": ""
             }
            },
            "type": "scattergl"
           }
          ],
          "scattermapbox": [
           {
            "marker": {
             "colorbar": {
              "outlinewidth": 0,
              "ticks": ""
             }
            },
            "type": "scattermapbox"
           }
          ],
          "scatterpolar": [
           {
            "marker": {
             "colorbar": {
              "outlinewidth": 0,
              "ticks": ""
             }
            },
            "type": "scatterpolar"
           }
          ],
          "scatterpolargl": [
           {
            "marker": {
             "colorbar": {
              "outlinewidth": 0,
              "ticks": ""
             }
            },
            "type": "scatterpolargl"
           }
          ],
          "scatterternary": [
           {
            "marker": {
             "colorbar": {
              "outlinewidth": 0,
              "ticks": ""
             }
            },
            "type": "scatterternary"
           }
          ],
          "surface": [
           {
            "colorbar": {
             "outlinewidth": 0,
             "ticks": ""
            },
            "colorscale": [
             [
              0,
              "#0d0887"
             ],
             [
              0.1111111111111111,
              "#46039f"
             ],
             [
              0.2222222222222222,
              "#7201a8"
             ],
             [
              0.3333333333333333,
              "#9c179e"
             ],
             [
              0.4444444444444444,
              "#bd3786"
             ],
             [
              0.5555555555555556,
              "#d8576b"
             ],
             [
              0.6666666666666666,
              "#ed7953"
             ],
             [
              0.7777777777777778,
              "#fb9f3a"
             ],
             [
              0.8888888888888888,
              "#fdca26"
             ],
             [
              1,
              "#f0f921"
             ]
            ],
            "type": "surface"
           }
          ],
          "table": [
           {
            "cells": {
             "fill": {
              "color": "#EBF0F8"
             },
             "line": {
              "color": "white"
             }
            },
            "header": {
             "fill": {
              "color": "#C8D4E3"
             },
             "line": {
              "color": "white"
             }
            },
            "type": "table"
           }
          ]
         },
         "layout": {
          "annotationdefaults": {
           "arrowcolor": "#2a3f5f",
           "arrowhead": 0,
           "arrowwidth": 1
          },
          "autotypenumbers": "strict",
          "coloraxis": {
           "colorbar": {
            "outlinewidth": 0,
            "ticks": ""
           }
          },
          "colorscale": {
           "diverging": [
            [
             0,
             "#8e0152"
            ],
            [
             0.1,
             "#c51b7d"
            ],
            [
             0.2,
             "#de77ae"
            ],
            [
             0.3,
             "#f1b6da"
            ],
            [
             0.4,
             "#fde0ef"
            ],
            [
             0.5,
             "#f7f7f7"
            ],
            [
             0.6,
             "#e6f5d0"
            ],
            [
             0.7,
             "#b8e186"
            ],
            [
             0.8,
             "#7fbc41"
            ],
            [
             0.9,
             "#4d9221"
            ],
            [
             1,
             "#276419"
            ]
           ],
           "sequential": [
            [
             0,
             "#0d0887"
            ],
            [
             0.1111111111111111,
             "#46039f"
            ],
            [
             0.2222222222222222,
             "#7201a8"
            ],
            [
             0.3333333333333333,
             "#9c179e"
            ],
            [
             0.4444444444444444,
             "#bd3786"
            ],
            [
             0.5555555555555556,
             "#d8576b"
            ],
            [
             0.6666666666666666,
             "#ed7953"
            ],
            [
             0.7777777777777778,
             "#fb9f3a"
            ],
            [
             0.8888888888888888,
             "#fdca26"
            ],
            [
             1,
             "#f0f921"
            ]
           ],
           "sequentialminus": [
            [
             0,
             "#0d0887"
            ],
            [
             0.1111111111111111,
             "#46039f"
            ],
            [
             0.2222222222222222,
             "#7201a8"
            ],
            [
             0.3333333333333333,
             "#9c179e"
            ],
            [
             0.4444444444444444,
             "#bd3786"
            ],
            [
             0.5555555555555556,
             "#d8576b"
            ],
            [
             0.6666666666666666,
             "#ed7953"
            ],
            [
             0.7777777777777778,
             "#fb9f3a"
            ],
            [
             0.8888888888888888,
             "#fdca26"
            ],
            [
             1,
             "#f0f921"
            ]
           ]
          },
          "colorway": [
           "#636efa",
           "#EF553B",
           "#00cc96",
           "#ab63fa",
           "#FFA15A",
           "#19d3f3",
           "#FF6692",
           "#B6E880",
           "#FF97FF",
           "#FECB52"
          ],
          "font": {
           "color": "#2a3f5f"
          },
          "geo": {
           "bgcolor": "white",
           "lakecolor": "white",
           "landcolor": "#E5ECF6",
           "showlakes": true,
           "showland": true,
           "subunitcolor": "white"
          },
          "hoverlabel": {
           "align": "left"
          },
          "hovermode": "closest",
          "mapbox": {
           "style": "light"
          },
          "paper_bgcolor": "white",
          "plot_bgcolor": "#E5ECF6",
          "polar": {
           "angularaxis": {
            "gridcolor": "white",
            "linecolor": "white",
            "ticks": ""
           },
           "bgcolor": "#E5ECF6",
           "radialaxis": {
            "gridcolor": "white",
            "linecolor": "white",
            "ticks": ""
           }
          },
          "scene": {
           "xaxis": {
            "backgroundcolor": "#E5ECF6",
            "gridcolor": "white",
            "gridwidth": 2,
            "linecolor": "white",
            "showbackground": true,
            "ticks": "",
            "zerolinecolor": "white"
           },
           "yaxis": {
            "backgroundcolor": "#E5ECF6",
            "gridcolor": "white",
            "gridwidth": 2,
            "linecolor": "white",
            "showbackground": true,
            "ticks": "",
            "zerolinecolor": "white"
           },
           "zaxis": {
            "backgroundcolor": "#E5ECF6",
            "gridcolor": "white",
            "gridwidth": 2,
            "linecolor": "white",
            "showbackground": true,
            "ticks": "",
            "zerolinecolor": "white"
           }
          },
          "shapedefaults": {
           "line": {
            "color": "#2a3f5f"
           }
          },
          "ternary": {
           "aaxis": {
            "gridcolor": "white",
            "linecolor": "white",
            "ticks": ""
           },
           "baxis": {
            "gridcolor": "white",
            "linecolor": "white",
            "ticks": ""
           },
           "bgcolor": "#E5ECF6",
           "caxis": {
            "gridcolor": "white",
            "linecolor": "white",
            "ticks": ""
           }
          },
          "title": {
           "x": 0.05
          },
          "xaxis": {
           "automargin": true,
           "gridcolor": "white",
           "linecolor": "white",
           "ticks": "",
           "title": {
            "standoff": 15
           },
           "zerolinecolor": "white",
           "zerolinewidth": 2
          },
          "yaxis": {
           "automargin": true,
           "gridcolor": "white",
           "linecolor": "white",
           "ticks": "",
           "title": {
            "standoff": 15
           },
           "zerolinecolor": "white",
           "zerolinewidth": 2
          }
         }
        },
        "title": {
         "text": "Resultado dos modelos (quanto maior melhor)"
        },
        "xaxis": {
         "anchor": "y",
         "domain": [
          0,
          1
         ],
         "title": {
          "text": "score"
         }
        },
        "yaxis": {
         "anchor": "x",
         "categoryarray": [
          "Árvore de decisão",
          "Naive Bayes - variaveis dummies",
          "Naive Bayes - label encoding"
         ],
         "categoryorder": "array",
         "domain": [
          0,
          1
         ],
         "title": {
          "text": "desc"
         }
        }
       }
      }
     },
     "metadata": {},
     "output_type": "display_data"
    }
   ],
   "source": [
    "from sklearn.tree import DecisionTreeClassifier\n",
    "\n",
    "arvore_census = DecisionTreeClassifier(criterion='entropy', random_state=0)\n",
    "arvore_census.fit(x_censu_treino, y_censu_treino)\n",
    "\n",
    "previsoes = arvore_census.predict(x_censu_teste)\n",
    "\n",
    "control_scores('Árvore de decisão', accuracy_score(y_censu_teste, previsoes))\n"
   ]
  },
  {
   "cell_type": "code",
   "execution_count": 74,
   "metadata": {},
   "outputs": [
    {
     "data": {
      "text/plain": [
       "0.815501781107972"
      ]
     },
     "execution_count": 74,
     "metadata": {},
     "output_type": "execute_result"
    },
    {
     "data": {
      "image/png": "[encoded data removed]",
      "text/plain": [
       "<Figure size 576x396 with 1 Axes>"
      ]
     },
     "metadata": {},
     "output_type": "display_data"
    }
   ],
   "source": [
    "from yellowbrick.classifier import ConfusionMatrix\n",
    "\n",
    "cm = ConfusionMatrix(arvore_census)\n",
    "cm.fit(x_censu_treino, y_censu_treino)\n",
    "cm.score(x_censu_teste, y_censu_teste)"
   ]
  },
  {
   "cell_type": "markdown",
   "metadata": {},
   "source": [
    "## 6 - Randon Forests\n"
   ]
  },
  {
   "cell_type": "markdown",
   "metadata": {},
   "source": [
    "#### 6.1 - Variáveis categóricas"
   ]
  },
  {
   "cell_type": "code",
   "execution_count": 102,
   "metadata": {},
   "outputs": [],
   "source": [
    "import pickle\n",
    "with open('censu.pkl', 'rb') as f:\n",
    "  x_censu, y_censu, x_censu_treino, y_censu_treino, x_censu_teste, y_censu_teste = pickle.load(f)\n",
    "\n",
    "del(f)"
   ]
  },
  {
   "cell_type": "code",
   "execution_count": 103,
   "metadata": {},
   "outputs": [],
   "source": [
    "names = ['age', 'fnlwgt', 'capital-gain', 'capital-loss', 'hours-per-week', 'workclass', 'education', 'marital-status', 'occupation', 'relationship', 'race', 'sex', 'native-country']\n",
    "x_censu = x_censu[names]\n",
    "\n",
    "del(names)\n",
    "\n",
    "x_censu_treino, x_censu_teste, y_censu_treino, y_censu_teste = train_test_split(x_censu_dummy, y_censu, test_size = 0.25, random_state = 0)"
   ]
  },
  {
   "cell_type": "code",
   "execution_count": 104,
   "metadata": {},
   "outputs": [
    {
     "data": {
      "application/vnd.plotly.v1+json": {
       "config": {
        "plotlyServerURL": "https://plot.ly"
       },
       "data": [
        {
         "alignmentgroup": "True",
         "hovertemplate": "desc=%{y}<br>score=%{x}<extra></extra>",
         "legendgroup": "Randon Forests - Variáveis Categóricas",
         "marker": {
          "color": "#636efa",
          "pattern": {
           "shape": ""
          }
         },
         "name": "Randon Forests - Variáveis Categóricas",
         "offsetgroup": "Randon Forests - Variáveis Categóricas",
         "orientation": "h",
         "showlegend": true,
         "textposition": "auto",
         "texttemplate": "%{x}",
         "type": "bar",
         "x": [
          0.8505097653850878
         ],
         "xaxis": "x",
         "y": [
          "Randon Forests - Variáveis Categóricas"
         ],
         "yaxis": "y"
        }
       ],
       "layout": {
        "barmode": "relative",
        "legend": {
         "title": {
          "text": "desc"
         },
         "tracegroupgap": 0
        },
        "template": {
         "data": {
          "bar": [
           {
            "error_x": {
             "color": "#2a3f5f"
            },
            "error_y": {
             "color": "#2a3f5f"
            },
            "marker": {
             "line": {
              "color": "#E5ECF6",
              "width": 0.5
             },
             "pattern": {
              "fillmode": "overlay",
              "size": 10,
              "solidity": 0.2
             }
            },
            "type": "bar"
           }
          ],
          "barpolar": [
           {
            "marker": {
             "line": {
              "color": "#E5ECF6",
              "width": 0.5
             },
             "pattern": {
              "fillmode": "overlay",
              "size": 10,
              "solidity": 0.2
             }
            },
            "type": "barpolar"
           }
          ],
          "carpet": [
           {
            "aaxis": {
             "endlinecolor": "#2a3f5f",
             "gridcolor": "white",
             "linecolor": "white",
             "minorgridcolor": "white",
             "startlinecolor": "#2a3f5f"
            },
            "baxis": {
             "endlinecolor": "#2a3f5f",
             "gridcolor": "white",
             "linecolor": "white",
             "minorgridcolor": "white",
             "startlinecolor": "#2a3f5f"
            },
            "type": "carpet"
           }
          ],
          "choropleth": [
           {
            "colorbar": {
             "outlinewidth": 0,
             "ticks": ""
            },
            "type": "choropleth"
           }
          ],
          "contour": [
           {
            "colorbar": {
             "outlinewidth": 0,
             "ticks": ""
            },
            "colorscale": [
             [
              0,
              "#0d0887"
             ],
             [
              0.1111111111111111,
              "#46039f"
             ],
             [
              0.2222222222222222,
              "#7201a8"
             ],
             [
              0.3333333333333333,
              "#9c179e"
             ],
             [
              0.4444444444444444,
              "#bd3786"
             ],
             [
              0.5555555555555556,
              "#d8576b"
             ],
             [
              0.6666666666666666,
              "#ed7953"
             ],
             [
              0.7777777777777778,
              "#fb9f3a"
             ],
             [
              0.8888888888888888,
              "#fdca26"
             ],
             [
              1,
              "#f0f921"
             ]
            ],
            "type": "contour"
           }
          ],
          "contourcarpet": [
           {
            "colorbar": {
             "outlinewidth": 0,
             "ticks": ""
            },
            "type": "contourcarpet"
           }
          ],
          "heatmap": [
           {
            "colorbar": {
             "outlinewidth": 0,
             "ticks": ""
            },
            "colorscale": [
             [
              0,
              "#0d0887"
             ],
             [
              0.1111111111111111,
              "#46039f"
             ],
             [
              0.2222222222222222,
              "#7201a8"
             ],
             [
              0.3333333333333333,
              "#9c179e"
             ],
             [
              0.4444444444444444,
              "#bd3786"
             ],
             [
              0.5555555555555556,
              "#d8576b"
             ],
             [
              0.6666666666666666,
              "#ed7953"
             ],
             [
              0.7777777777777778,
              "#fb9f3a"
             ],
             [
              0.8888888888888888,
              "#fdca26"
             ],
             [
              1,
              "#f0f921"
             ]
            ],
            "type": "heatmap"
           }
          ],
          "heatmapgl": [
           {
            "colorbar": {
             "outlinewidth": 0,
             "ticks": ""
            },
            "colorscale": [
             [
              0,
              "#0d0887"
             ],
             [
              0.1111111111111111,
              "#46039f"
             ],
             [
              0.2222222222222222,
              "#7201a8"
             ],
             [
              0.3333333333333333,
              "#9c179e"
             ],
             [
              0.4444444444444444,
              "#bd3786"
             ],
             [
              0.5555555555555556,
              "#d8576b"
             ],
             [
              0.6666666666666666,
              "#ed7953"
             ],
             [
              0.7777777777777778,
              "#fb9f3a"
             ],
             [
              0.8888888888888888,
              "#fdca26"
             ],
             [
              1,
              "#f0f921"
             ]
            ],
            "type": "heatmapgl"
           }
          ],
          "histogram": [
           {
            "marker": {
             "pattern": {
              "fillmode": "overlay",
              "size": 10,
              "solidity": 0.2
             }
            },
            "type": "histogram"
           }
          ],
          "histogram2d": [
           {
            "colorbar": {
             "outlinewidth": 0,
             "ticks": ""
            },
            "colorscale": [
             [
              0,
              "#0d0887"
             ],
             [
              0.1111111111111111,
              "#46039f"
             ],
             [
              0.2222222222222222,
              "#7201a8"
             ],
             [
              0.3333333333333333,
              "#9c179e"
             ],
             [
              0.4444444444444444,
              "#bd3786"
             ],
             [
              0.5555555555555556,
              "#d8576b"
             ],
             [
              0.6666666666666666,
              "#ed7953"
             ],
             [
              0.7777777777777778,
              "#fb9f3a"
             ],
             [
              0.8888888888888888,
              "#fdca26"
             ],
             [
              1,
              "#f0f921"
             ]
            ],
            "type": "histogram2d"
           }
          ],
          "histogram2dcontour": [
           {
            "colorbar": {
             "outlinewidth": 0,
             "ticks": ""
            },
            "colorscale": [
             [
              0,
              "#0d0887"
             ],
             [
              0.1111111111111111,
              "#46039f"
             ],
             [
              0.2222222222222222,
              "#7201a8"
             ],
             [
              0.3333333333333333,
              "#9c179e"
             ],
             [
              0.4444444444444444,
              "#bd3786"
             ],
             [
              0.5555555555555556,
              "#d8576b"
             ],
             [
              0.6666666666666666,
              "#ed7953"
             ],
             [
              0.7777777777777778,
              "#fb9f3a"
             ],
             [
              0.8888888888888888,
              "#fdca26"
             ],
             [
              1,
              "#f0f921"
             ]
            ],
            "type": "histogram2dcontour"
           }
          ],
          "mesh3d": [
           {
            "colorbar": {
             "outlinewidth": 0,
             "ticks": ""
            },
            "type": "mesh3d"
           }
          ],
          "parcoords": [
           {
            "line": {
             "colorbar": {
              "outlinewidth": 0,
              "ticks": ""
             }
            },
            "type": "parcoords"
           }
          ],
          "pie": [
           {
            "automargin": true,
            "type": "pie"
           }
          ],
          "scatter": [
           {
            "fillpattern": {
             "fillmode": "overlay",
             "size": 10,
             "solidity": 0.2
            },
            "type": "scatter"
           }
          ],
          "scatter3d": [
           {
            "line": {
             "colorbar": {
              "outlinewidth": 0,
              "ticks": ""
             }
            },
            "marker": {
             "colorbar": {
              "outlinewidth": 0,
              "ticks": ""
             }
            },
            "type": "scatter3d"
           }
          ],
          "scattercarpet": [
           {
            "marker": {
             "colorbar": {
              "outlinewidth": 0,
              "ticks": ""
             }
            },
            "type": "scattercarpet"
           }
          ],
          "scattergeo": [
           {
            "marker": {
             "colorbar": {
              "outlinewidth": 0,
              "ticks": ""
             }
            },
            "type": "scattergeo"
           }
          ],
          "scattergl": [
           {
            "marker": {
             "colorbar": {
              "outlinewidth": 0,
              "ticks": ""
             }
            },
            "type": "scattergl"
           }
          ],
          "scattermapbox": [
           {
            "marker": {
             "colorbar": {
              "outlinewidth": 0,
              "ticks": ""
             }
            },
            "type": "scattermapbox"
           }
          ],
          "scatterpolar": [
           {
            "marker": {
             "colorbar": {
              "outlinewidth": 0,
              "ticks": ""
             }
            },
            "type": "scatterpolar"
           }
          ],
          "scatterpolargl": [
           {
            "marker": {
             "colorbar": {
              "outlinewidth": 0,
              "ticks": ""
             }
            },
            "type": "scatterpolargl"
           }
          ],
          "scatterternary": [
           {
            "marker": {
             "colorbar": {
              "outlinewidth": 0,
              "ticks": ""
             }
            },
            "type": "scatterternary"
           }
          ],
          "surface": [
           {
            "colorbar": {
             "outlinewidth": 0,
             "ticks": ""
            },
            "colorscale": [
             [
              0,
              "#0d0887"
             ],
             [
              0.1111111111111111,
              "#46039f"
             ],
             [
              0.2222222222222222,
              "#7201a8"
             ],
             [
              0.3333333333333333,
              "#9c179e"
             ],
             [
              0.4444444444444444,
              "#bd3786"
             ],
             [
              0.5555555555555556,
              "#d8576b"
             ],
             [
              0.6666666666666666,
              "#ed7953"
             ],
             [
              0.7777777777777778,
              "#fb9f3a"
             ],
             [
              0.8888888888888888,
              "#fdca26"
             ],
             [
              1,
              "#f0f921"
             ]
            ],
            "type": "surface"
           }
          ],
          "table": [
           {
            "cells": {
             "fill": {
              "color": "#EBF0F8"
             },
             "line": {
              "color": "white"
             }
            },
            "header": {
             "fill": {
              "color": "#C8D4E3"
             },
             "line": {
              "color": "white"
             }
            },
            "type": "table"
           }
          ]
         },
         "layout": {
          "annotationdefaults": {
           "arrowcolor": "#2a3f5f",
           "arrowhead": 0,
           "arrowwidth": 1
          },
          "autotypenumbers": "strict",
          "coloraxis": {
           "colorbar": {
            "outlinewidth": 0,
            "ticks": ""
           }
          },
          "colorscale": {
           "diverging": [
            [
             0,
             "#8e0152"
            ],
            [
             0.1,
             "#c51b7d"
            ],
            [
             0.2,
             "#de77ae"
            ],
            [
             0.3,
             "#f1b6da"
            ],
            [
             0.4,
             "#fde0ef"
            ],
            [
             0.5,
             "#f7f7f7"
            ],
            [
             0.6,
             "#e6f5d0"
            ],
            [
             0.7,
             "#b8e186"
            ],
            [
             0.8,
             "#7fbc41"
            ],
            [
             0.9,
             "#4d9221"
            ],
            [
             1,
             "#276419"
            ]
           ],
           "sequential": [
            [
             0,
             "#0d0887"
            ],
            [
             0.1111111111111111,
             "#46039f"
            ],
            [
             0.2222222222222222,
             "#7201a8"
            ],
            [
             0.3333333333333333,
             "#9c179e"
            ],
            [
             0.4444444444444444,
             "#bd3786"
            ],
            [
             0.5555555555555556,
             "#d8576b"
            ],
            [
             0.6666666666666666,
             "#ed7953"
            ],
            [
             0.7777777777777778,
             "#fb9f3a"
            ],
            [
             0.8888888888888888,
             "#fdca26"
            ],
            [
             1,
             "#f0f921"
            ]
           ],
           "sequentialminus": [
            [
             0,
             "#0d0887"
            ],
            [
             0.1111111111111111,
             "#46039f"
            ],
            [
             0.2222222222222222,
             "#7201a8"
            ],
            [
             0.3333333333333333,
             "#9c179e"
            ],
            [
             0.4444444444444444,
             "#bd3786"
            ],
            [
             0.5555555555555556,
             "#d8576b"
            ],
            [
             0.6666666666666666,
             "#ed7953"
            ],
            [
             0.7777777777777778,
             "#fb9f3a"
            ],
            [
             0.8888888888888888,
             "#fdca26"
            ],
            [
             1,
             "#f0f921"
            ]
           ]
          },
          "colorway": [
           "#636efa",
           "#EF553B",
           "#00cc96",
           "#ab63fa",
           "#FFA15A",
           "#19d3f3",
           "#FF6692",
           "#B6E880",
           "#FF97FF",
           "#FECB52"
          ],
          "font": {
           "color": "#2a3f5f"
          },
          "geo": {
           "bgcolor": "white",
           "lakecolor": "white",
           "landcolor": "#E5ECF6",
           "showlakes": true,
           "showland": true,
           "subunitcolor": "white"
          },
          "hoverlabel": {
           "align": "left"
          },
          "hovermode": "closest",
          "mapbox": {
           "style": "light"
          },
          "paper_bgcolor": "white",
          "plot_bgcolor": "#E5ECF6",
          "polar": {
           "angularaxis": {
            "gridcolor": "white",
            "linecolor": "white",
            "ticks": ""
           },
           "bgcolor": "#E5ECF6",
           "radialaxis": {
            "gridcolor": "white",
            "linecolor": "white",
            "ticks": ""
           }
          },
          "scene": {
           "xaxis": {
            "backgroundcolor": "#E5ECF6",
            "gridcolor": "white",
            "gridwidth": 2,
            "linecolor": "white",
            "showbackground": true,
            "ticks": "",
            "zerolinecolor": "white"
           },
           "yaxis": {
            "backgroundcolor": "#E5ECF6",
            "gridcolor": "white",
            "gridwidth": 2,
            "linecolor": "white",
            "showbackground": true,
            "ticks": "",
            "zerolinecolor": "white"
           },
           "zaxis": {
            "backgroundcolor": "#E5ECF6",
            "gridcolor": "white",
            "gridwidth": 2,
            "linecolor": "white",
            "showbackground": true,
            "ticks": "",
            "zerolinecolor": "white"
           }
          },
          "shapedefaults": {
           "line": {
            "color": "#2a3f5f"
           }
          },
          "ternary": {
           "aaxis": {
            "gridcolor": "white",
            "linecolor": "white",
            "ticks": ""
           },
           "baxis": {
            "gridcolor": "white",
            "linecolor": "white",
            "ticks": ""
           },
           "bgcolor": "#E5ECF6",
           "caxis": {
            "gridcolor": "white",
            "linecolor": "white",
            "ticks": ""
           }
          },
          "title": {
           "x": 0.05
          },
          "xaxis": {
           "automargin": true,
           "gridcolor": "white",
           "linecolor": "white",
           "ticks": "",
           "title": {
            "standoff": 15
           },
           "zerolinecolor": "white",
           "zerolinewidth": 2
          },
          "yaxis": {
           "automargin": true,
           "gridcolor": "white",
           "linecolor": "white",
           "ticks": "",
           "title": {
            "standoff": 15
           },
           "zerolinecolor": "white",
           "zerolinewidth": 2
          }
         }
        },
        "title": {
         "text": "Resultado dos modelos (quanto maior melhor)"
        },
        "xaxis": {
         "anchor": "y",
         "domain": [
          0,
          1
         ],
         "title": {
          "text": "score"
         }
        },
        "yaxis": {
         "anchor": "x",
         "categoryarray": [
          "Randon Forests - Variáveis Categóricas"
         ],
         "categoryorder": "array",
         "domain": [
          0,
          1
         ],
         "title": {
          "text": "desc"
         }
        }
       }
      }
     },
     "metadata": {},
     "output_type": "display_data"
    }
   ],
   "source": [
    "from sklearn.ensemble import RandomForestClassifier\n",
    "random_forest = RandomForestClassifier(n_estimators=40, criterion='entropy', random_state = 0)\n",
    "random_forest.fit(x_censu_treino, y_censu_treino)\n",
    "previsoes = random_forest.predict(x_censu_teste)\n",
    "\n",
    "control_scores('Randon Forests - Variáveis Categóricas', accuracy_score(y_censu_teste, previsoes))"
   ]
  },
  {
   "cell_type": "code",
   "execution_count": 105,
   "metadata": {},
   "outputs": [
    {
     "data": {
      "text/plain": [
       "0.8505097653850878"
      ]
     },
     "execution_count": 105,
     "metadata": {},
     "output_type": "execute_result"
    },
    {
     "data": {
      "image/png": "[encoded data removed]",
      "text/plain": [
       "<Figure size 576x396 with 1 Axes>"
      ]
     },
     "metadata": {},
     "output_type": "display_data"
    }
   ],
   "source": [
    "from yellowbrick.classifier import ConfusionMatrix\n",
    "\n",
    "cm = ConfusionMatrix(random_forest)\n",
    "cm.fit(x_censu_treino, y_censu_treino)\n",
    "cm.score(x_censu_teste, y_censu_teste)"
   ]
  },
  {
   "cell_type": "markdown",
   "metadata": {},
   "source": [
    "#### 6.2 - Variáveis Dummies"
   ]
  },
  {
   "cell_type": "code",
   "execution_count": 106,
   "metadata": {},
   "outputs": [],
   "source": [
    "import pickle\n",
    "with open('censu.pkl', 'rb') as f:\n",
    "  x_censu, y_censu, x_censu_treino, y_censu_treino, x_censu_teste, y_censu_teste = pickle.load(f)\n",
    "\n",
    "del(f)"
   ]
  },
  {
   "cell_type": "code",
   "execution_count": 107,
   "metadata": {},
   "outputs": [],
   "source": [
    "x_censu_dummy = pd.get_dummies(\n",
    "    x_censu, \n",
    "    #qual será o prefixo das colunas, manteremos o nome original\n",
    "    prefix=['workclass', 'occupation', 'native-country'],\n",
    "    #quais colunas serão avaliadas\n",
    "    columns = ['workclass', 'occupation', 'native-country'],  \n",
    "    #indicamos que desejamos que primeiro valor seja removido, uma vez que estamos trabalhando com variáveis binárias\n",
    "    #podemos remover um dos valores categóricos para reduzir a quantidade de colunas, a presença dele pode ser detectada\n",
    "    #ao verificar se as colunas remanecentes possuem valor 0\n",
    "    drop_first = False)"
   ]
  },
  {
   "cell_type": "code",
   "execution_count": 108,
   "metadata": {},
   "outputs": [],
   "source": [
    "x_censu_dummy = x_censu_dummy[x_censu_dummy.columns[~x_censu_dummy.columns.isin([\n",
    "    'workclass', 'education', 'marital-status', 'occupation', 'relationship', 'race', 'sex', 'native-country', \n",
    "    'workclass_encoded', 'occupation_encoded', 'native-country_encoded'\n",
    "])]]\n",
    "\n",
    "from sklearn.model_selection import train_test_split\n",
    "\n",
    "x_censu_treino, x_censu_teste, y_censu_treino, y_censu_teste = train_test_split(x_censu_dummy, y_censu, test_size = 0.25, random_state = 0)"
   ]
  },
  {
   "cell_type": "code",
   "execution_count": 111,
   "metadata": {},
   "outputs": [
    {
     "name": "stderr",
     "output_type": "stream",
     "text": [
      "[Parallel(n_jobs=1)]: Using backend SequentialBackend with 1 concurrent workers.\n",
      "[Parallel(n_jobs=1)]: Done  40 out of  40 | elapsed:    1.0s finished\n",
      "[Parallel(n_jobs=1)]: Using backend SequentialBackend with 1 concurrent workers.\n",
      "[Parallel(n_jobs=1)]: Done  40 out of  40 | elapsed:    0.0s finished\n"
     ]
    },
    {
     "data": {
      "application/vnd.plotly.v1+json": {
       "config": {
        "plotlyServerURL": "https://plot.ly"
       },
       "data": [
        {
         "alignmentgroup": "True",
         "hovertemplate": "desc=%{y}<br>score=%{x}<extra></extra>",
         "legendgroup": "Randon Forests - Variáveis Categóricas",
         "marker": {
          "color": "#636efa",
          "pattern": {
           "shape": ""
          }
         },
         "name": "Randon Forests - Variáveis Categóricas",
         "offsetgroup": "Randon Forests - Variáveis Categóricas",
         "orientation": "h",
         "showlegend": true,
         "textposition": "auto",
         "texttemplate": "%{x}",
         "type": "bar",
         "x": [
          0.8505097653850878
         ],
         "xaxis": "x",
         "y": [
          "Randon Forests - Variáveis Categóricas"
         ],
         "yaxis": "y"
        }
       ],
       "layout": {
        "barmode": "relative",
        "legend": {
         "title": {
          "text": "desc"
         },
         "tracegroupgap": 0
        },
        "template": {
         "data": {
          "bar": [
           {
            "error_x": {
             "color": "#2a3f5f"
            },
            "error_y": {
             "color": "#2a3f5f"
            },
            "marker": {
             "line": {
              "color": "#E5ECF6",
              "width": 0.5
             },
             "pattern": {
              "fillmode": "overlay",
              "size": 10,
              "solidity": 0.2
             }
            },
            "type": "bar"
           }
          ],
          "barpolar": [
           {
            "marker": {
             "line": {
              "color": "#E5ECF6",
              "width": 0.5
             },
             "pattern": {
              "fillmode": "overlay",
              "size": 10,
              "solidity": 0.2
             }
            },
            "type": "barpolar"
           }
          ],
          "carpet": [
           {
            "aaxis": {
             "endlinecolor": "#2a3f5f",
             "gridcolor": "white",
             "linecolor": "white",
             "minorgridcolor": "white",
             "startlinecolor": "#2a3f5f"
            },
            "baxis": {
             "endlinecolor": "#2a3f5f",
             "gridcolor": "white",
             "linecolor": "white",
             "minorgridcolor": "white",
             "startlinecolor": "#2a3f5f"
            },
            "type": "carpet"
           }
          ],
          "choropleth": [
           {
            "colorbar": {
             "outlinewidth": 0,
             "ticks": ""
            },
            "type": "choropleth"
           }
          ],
          "contour": [
           {
            "colorbar": {
             "outlinewidth": 0,
             "ticks": ""
            },
            "colorscale": [
             [
              0,
              "#0d0887"
             ],
             [
              0.1111111111111111,
              "#46039f"
             ],
             [
              0.2222222222222222,
              "#7201a8"
             ],
             [
              0.3333333333333333,
              "#9c179e"
             ],
             [
              0.4444444444444444,
              "#bd3786"
             ],
             [
              0.5555555555555556,
              "#d8576b"
             ],
             [
              0.6666666666666666,
              "#ed7953"
             ],
             [
              0.7777777777777778,
              "#fb9f3a"
             ],
             [
              0.8888888888888888,
              "#fdca26"
             ],
             [
              1,
              "#f0f921"
             ]
            ],
            "type": "contour"
           }
          ],
          "contourcarpet": [
           {
            "colorbar": {
             "outlinewidth": 0,
             "ticks": ""
            },
            "type": "contourcarpet"
           }
          ],
          "heatmap": [
           {
            "colorbar": {
             "outlinewidth": 0,
             "ticks": ""
            },
            "colorscale": [
             [
              0,
              "#0d0887"
             ],
             [
              0.1111111111111111,
              "#46039f"
             ],
             [
              0.2222222222222222,
              "#7201a8"
             ],
             [
              0.3333333333333333,
              "#9c179e"
             ],
             [
              0.4444444444444444,
              "#bd3786"
             ],
             [
              0.5555555555555556,
              "#d8576b"
             ],
             [
              0.6666666666666666,
              "#ed7953"
             ],
             [
              0.7777777777777778,
              "#fb9f3a"
             ],
             [
              0.8888888888888888,
              "#fdca26"
             ],
             [
              1,
              "#f0f921"
             ]
            ],
            "type": "heatmap"
           }
          ],
          "heatmapgl": [
           {
            "colorbar": {
             "outlinewidth": 0,
             "ticks": ""
            },
            "colorscale": [
             [
              0,
              "#0d0887"
             ],
             [
              0.1111111111111111,
              "#46039f"
             ],
             [
              0.2222222222222222,
              "#7201a8"
             ],
             [
              0.3333333333333333,
              "#9c179e"
             ],
             [
              0.4444444444444444,
              "#bd3786"
             ],
             [
              0.5555555555555556,
              "#d8576b"
             ],
             [
              0.6666666666666666,
              "#ed7953"
             ],
             [
              0.7777777777777778,
              "#fb9f3a"
             ],
             [
              0.8888888888888888,
              "#fdca26"
             ],
             [
              1,
              "#f0f921"
             ]
            ],
            "type": "heatmapgl"
           }
          ],
          "histogram": [
           {
            "marker": {
             "pattern": {
              "fillmode": "overlay",
              "size": 10,
              "solidity": 0.2
             }
            },
            "type": "histogram"
           }
          ],
          "histogram2d": [
           {
            "colorbar": {
             "outlinewidth": 0,
             "ticks": ""
            },
            "colorscale": [
             [
              0,
              "#0d0887"
             ],
             [
              0.1111111111111111,
              "#46039f"
             ],
             [
              0.2222222222222222,
              "#7201a8"
             ],
             [
              0.3333333333333333,
              "#9c179e"
             ],
             [
              0.4444444444444444,
              "#bd3786"
             ],
             [
              0.5555555555555556,
              "#d8576b"
             ],
             [
              0.6666666666666666,
              "#ed7953"
             ],
             [
              0.7777777777777778,
              "#fb9f3a"
             ],
             [
              0.8888888888888888,
              "#fdca26"
             ],
             [
              1,
              "#f0f921"
             ]
            ],
            "type": "histogram2d"
           }
          ],
          "histogram2dcontour": [
           {
            "colorbar": {
             "outlinewidth": 0,
             "ticks": ""
            },
            "colorscale": [
             [
              0,
              "#0d0887"
             ],
             [
              0.1111111111111111,
              "#46039f"
             ],
             [
              0.2222222222222222,
              "#7201a8"
             ],
             [
              0.3333333333333333,
              "#9c179e"
             ],
             [
              0.4444444444444444,
              "#bd3786"
             ],
             [
              0.5555555555555556,
              "#d8576b"
             ],
             [
              0.6666666666666666,
              "#ed7953"
             ],
             [
              0.7777777777777778,
              "#fb9f3a"
             ],
             [
              0.8888888888888888,
              "#fdca26"
             ],
             [
              1,
              "#f0f921"
             ]
            ],
            "type": "histogram2dcontour"
           }
          ],
          "mesh3d": [
           {
            "colorbar": {
             "outlinewidth": 0,
             "ticks": ""
            },
            "type": "mesh3d"
           }
          ],
          "parcoords": [
           {
            "line": {
             "colorbar": {
              "outlinewidth": 0,
              "ticks": ""
             }
            },
            "type": "parcoords"
           }
          ],
          "pie": [
           {
            "automargin": true,
            "type": "pie"
           }
          ],
          "scatter": [
           {
            "fillpattern": {
             "fillmode": "overlay",
             "size": 10,
             "solidity": 0.2
            },
            "type": "scatter"
           }
          ],
          "scatter3d": [
           {
            "line": {
             "colorbar": {
              "outlinewidth": 0,
              "ticks": ""
             }
            },
            "marker": {
             "colorbar": {
              "outlinewidth": 0,
              "ticks": ""
             }
            },
            "type": "scatter3d"
           }
          ],
          "scattercarpet": [
           {
            "marker": {
             "colorbar": {
              "outlinewidth": 0,
              "ticks": ""
             }
            },
            "type": "scattercarpet"
           }
          ],
          "scattergeo": [
           {
            "marker": {
             "colorbar": {
              "outlinewidth": 0,
              "ticks": ""
             }
            },
            "type": "scattergeo"
           }
          ],
          "scattergl": [
           {
            "marker": {
             "colorbar": {
              "outlinewidth": 0,
              "ticks": ""
             }
            },
            "type": "scattergl"
           }
          ],
          "scattermapbox": [
           {
            "marker": {
             "colorbar": {
              "outlinewidth": 0,
              "ticks": ""
             }
            },
            "type": "scattermapbox"
           }
          ],
          "scatterpolar": [
           {
            "marker": {
             "colorbar": {
              "outlinewidth": 0,
              "ticks": ""
             }
            },
            "type": "scatterpolar"
           }
          ],
          "scatterpolargl": [
           {
            "marker": {
             "colorbar": {
              "outlinewidth": 0,
              "ticks": ""
             }
            },
            "type": "scatterpolargl"
           }
          ],
          "scatterternary": [
           {
            "marker": {
             "colorbar": {
              "outlinewidth": 0,
              "ticks": ""
             }
            },
            "type": "scatterternary"
           }
          ],
          "surface": [
           {
            "colorbar": {
             "outlinewidth": 0,
             "ticks": ""
            },
            "colorscale": [
             [
              0,
              "#0d0887"
             ],
             [
              0.1111111111111111,
              "#46039f"
             ],
             [
              0.2222222222222222,
              "#7201a8"
             ],
             [
              0.3333333333333333,
              "#9c179e"
             ],
             [
              0.4444444444444444,
              "#bd3786"
             ],
             [
              0.5555555555555556,
              "#d8576b"
             ],
             [
              0.6666666666666666,
              "#ed7953"
             ],
             [
              0.7777777777777778,
              "#fb9f3a"
             ],
             [
              0.8888888888888888,
              "#fdca26"
             ],
             [
              1,
              "#f0f921"
             ]
            ],
            "type": "surface"
           }
          ],
          "table": [
           {
            "cells": {
             "fill": {
              "color": "#EBF0F8"
             },
             "line": {
              "color": "white"
             }
            },
            "header": {
             "fill": {
              "color": "#C8D4E3"
             },
             "line": {
              "color": "white"
             }
            },
            "type": "table"
           }
          ]
         },
         "layout": {
          "annotationdefaults": {
           "arrowcolor": "#2a3f5f",
           "arrowhead": 0,
           "arrowwidth": 1
          },
          "autotypenumbers": "strict",
          "coloraxis": {
           "colorbar": {
            "outlinewidth": 0,
            "ticks": ""
           }
          },
          "colorscale": {
           "diverging": [
            [
             0,
             "#8e0152"
            ],
            [
             0.1,
             "#c51b7d"
            ],
            [
             0.2,
             "#de77ae"
            ],
            [
             0.3,
             "#f1b6da"
            ],
            [
             0.4,
             "#fde0ef"
            ],
            [
             0.5,
             "#f7f7f7"
            ],
            [
             0.6,
             "#e6f5d0"
            ],
            [
             0.7,
             "#b8e186"
            ],
            [
             0.8,
             "#7fbc41"
            ],
            [
             0.9,
             "#4d9221"
            ],
            [
             1,
             "#276419"
            ]
           ],
           "sequential": [
            [
             0,
             "#0d0887"
            ],
            [
             0.1111111111111111,
             "#46039f"
            ],
            [
             0.2222222222222222,
             "#7201a8"
            ],
            [
             0.3333333333333333,
             "#9c179e"
            ],
            [
             0.4444444444444444,
             "#bd3786"
            ],
            [
             0.5555555555555556,
             "#d8576b"
            ],
            [
             0.6666666666666666,
             "#ed7953"
            ],
            [
             0.7777777777777778,
             "#fb9f3a"
            ],
            [
             0.8888888888888888,
             "#fdca26"
            ],
            [
             1,
             "#f0f921"
            ]
           ],
           "sequentialminus": [
            [
             0,
             "#0d0887"
            ],
            [
             0.1111111111111111,
             "#46039f"
            ],
            [
             0.2222222222222222,
             "#7201a8"
            ],
            [
             0.3333333333333333,
             "#9c179e"
            ],
            [
             0.4444444444444444,
             "#bd3786"
            ],
            [
             0.5555555555555556,
             "#d8576b"
            ],
            [
             0.6666666666666666,
             "#ed7953"
            ],
            [
             0.7777777777777778,
             "#fb9f3a"
            ],
            [
             0.8888888888888888,
             "#fdca26"
            ],
            [
             1,
             "#f0f921"
            ]
           ]
          },
          "colorway": [
           "#636efa",
           "#EF553B",
           "#00cc96",
           "#ab63fa",
           "#FFA15A",
           "#19d3f3",
           "#FF6692",
           "#B6E880",
           "#FF97FF",
           "#FECB52"
          ],
          "font": {
           "color": "#2a3f5f"
          },
          "geo": {
           "bgcolor": "white",
           "lakecolor": "white",
           "landcolor": "#E5ECF6",
           "showlakes": true,
           "showland": true,
           "subunitcolor": "white"
          },
          "hoverlabel": {
           "align": "left"
          },
          "hovermode": "closest",
          "mapbox": {
           "style": "light"
          },
          "paper_bgcolor": "white",
          "plot_bgcolor": "#E5ECF6",
          "polar": {
           "angularaxis": {
            "gridcolor": "white",
            "linecolor": "white",
            "ticks": ""
           },
           "bgcolor": "#E5ECF6",
           "radialaxis": {
            "gridcolor": "white",
            "linecolor": "white",
            "ticks": ""
           }
          },
          "scene": {
           "xaxis": {
            "backgroundcolor": "#E5ECF6",
            "gridcolor": "white",
            "gridwidth": 2,
            "linecolor": "white",
            "showbackground": true,
            "ticks": "",
            "zerolinecolor": "white"
           },
           "yaxis": {
            "backgroundcolor": "#E5ECF6",
            "gridcolor": "white",
            "gridwidth": 2,
            "linecolor": "white",
            "showbackground": true,
            "ticks": "",
            "zerolinecolor": "white"
           },
           "zaxis": {
            "backgroundcolor": "#E5ECF6",
            "gridcolor": "white",
            "gridwidth": 2,
            "linecolor": "white",
            "showbackground": true,
            "ticks": "",
            "zerolinecolor": "white"
           }
          },
          "shapedefaults": {
           "line": {
            "color": "#2a3f5f"
           }
          },
          "ternary": {
           "aaxis": {
            "gridcolor": "white",
            "linecolor": "white",
            "ticks": ""
           },
           "baxis": {
            "gridcolor": "white",
            "linecolor": "white",
            "ticks": ""
           },
           "bgcolor": "#E5ECF6",
           "caxis": {
            "gridcolor": "white",
            "linecolor": "white",
            "ticks": ""
           }
          },
          "title": {
           "x": 0.05
          },
          "xaxis": {
           "automargin": true,
           "gridcolor": "white",
           "linecolor": "white",
           "ticks": "",
           "title": {
            "standoff": 15
           },
           "zerolinecolor": "white",
           "zerolinewidth": 2
          },
          "yaxis": {
           "automargin": true,
           "gridcolor": "white",
           "linecolor": "white",
           "ticks": "",
           "title": {
            "standoff": 15
           },
           "zerolinecolor": "white",
           "zerolinewidth": 2
          }
         }
        },
        "title": {
         "text": "Resultado dos modelos (quanto maior melhor)"
        },
        "xaxis": {
         "anchor": "y",
         "domain": [
          0,
          1
         ],
         "title": {
          "text": "score"
         }
        },
        "yaxis": {
         "anchor": "x",
         "categoryarray": [
          "Randon Forests - Variáveis Categóricas"
         ],
         "categoryorder": "array",
         "domain": [
          0,
          1
         ],
         "title": {
          "text": "desc"
         }
        }
       }
      }
     },
     "metadata": {},
     "output_type": "display_data"
    }
   ],
   "source": [
    "from sklearn.ensemble import RandomForestClassifier\n",
    "random_forest = RandomForestClassifier(n_estimators=40, criterion='entropy', random_state = 0, verbose=1)\n",
    "random_forest.fit(x_censu_treino, y_censu_treino)\n",
    "previsoes = random_forest.predict(x_censu_teste)\n",
    "\n",
    "control_scores('Randon Forests - Variáveis Categóricas', accuracy_score(y_censu_teste, previsoes))"
   ]
  },
  {
   "cell_type": "code",
   "execution_count": 110,
   "metadata": {},
   "outputs": [
    {
     "data": {
      "text/plain": [
       "0.8512467755803955"
      ]
     },
     "execution_count": 110,
     "metadata": {},
     "output_type": "execute_result"
    },
    {
     "data": {
      "image/png": "[encoded data removed]",
      "text/plain": [
       "<Figure size 576x396 with 1 Axes>"
      ]
     },
     "metadata": {},
     "output_type": "display_data"
    }
   ],
   "source": [
    "from yellowbrick.classifier import ConfusionMatrix\n",
    "\n",
    "cm = ConfusionMatrix(random_forest)\n",
    "cm.fit(x_censu_treino, y_censu_treino)\n",
    "cm.score(x_censu_teste, y_censu_teste)"
   ]
  }
 ],
 "metadata": {
  "kernelspec": {
   "display_name": "Python 3.10.5 64-bit",
   "language": "python",
   "name": "python3"
  },
  "language_info": {
   "codemirror_mode": {
    "name": "ipython",
    "version": 3
   },
   "file_extension": ".py",
   "mimetype": "text/x-python",
   "name": "python",
   "nbconvert_exporter": "python",
   "pygments_lexer": "ipython3",
   "version": "3.10.5"
  },
  "orig_nbformat": 4,
  "vscode": {
   "interpreter": {
    "hash": "26de051ba29f2982a8de78e945f0abaf191376122a1563185a90213a26c5da77"
   }
  }
 },
 "nbformat": 4,
 "nbformat_minor": 2
}
